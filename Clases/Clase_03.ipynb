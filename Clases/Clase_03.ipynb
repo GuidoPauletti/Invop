{
  "nbformat": 4,
  "nbformat_minor": 0,
  "metadata": {
    "colab": {
      "provenance": []
    },
    "kernelspec": {
      "name": "python3",
      "display_name": "Python 3"
    },
    "language_info": {
      "name": "python"
    }
  },
  "cells": [
    {
      "cell_type": "markdown",
      "source": [
        "# Clase 3 - Disyunción\n",
        "## Investigación Operativa 2C 2025 - Departamento de Matemática - FCEN-UBA"
      ],
      "metadata": {
        "id": "Jis5D-aMJAFW"
      }
    },
    {
      "cell_type": "markdown",
      "source": [
        "### Inicialización"
      ],
      "metadata": {
        "id": "WqSkzOfwQlqP"
      }
    },
    {
      "cell_type": "code",
      "source": [
        "# Importamos la clase Model de pyscipopt\n",
        "from pyscipopt import Model\n",
        "# Importamos numpy\n",
        "import numpy as np"
      ],
      "metadata": {
        "id": "VadNtUE6RIpD"
      },
      "execution_count": null,
      "outputs": []
    },
    {
      "cell_type": "markdown",
      "source": [
        "### Asignación de operarios"
      ],
      "metadata": {
        "id": "w1iOofWoJLJK"
      }
    },
    {
      "cell_type": "markdown",
      "source": [
        "1) Resolver el modelo para encontrar una asignación de trabajadores a tareas de la planta de producción de MicroApple, eligiendo un valor apropiado para $M$:\n",
        "\n",
        "$$\n",
        "\\begin{array}{lrlr}\n",
        "\\max & 0 &  & \\\\\n",
        "\\text{s.a.:} & \\displaystyle\\sum_{i=1}^{|T|} x_t =& N \\\\\n",
        "  & x_t \\leq& u_t & t\\in T\\\\\n",
        "  & x_t \\geq & \\ell_t & t\\in T\\\\\n",
        "  & x_t - x_{t+1} \\leq & m_t & t\\in\\Gamma \\\\\n",
        "  & x_{t+1} - x_t \\leq & m_t & t\\in\\Gamma \\\\\n",
        "  & x_1 \\geq & 0.25x_2 - M\\theta \\\\\n",
        "  & x_3+x_4+x_5 \\leq & E + M(1-\\theta)\\\\\n",
        "  & x_t\\in &\\mathbb{Z_{\\geq 0}} & t\\in T \\\\\n",
        "  & \\theta\\in&\\{0,1\\} \\\\\n",
        "\\end{array}\n",
        "$$\n",
        "\n",
        "2) Una vez obtenida una solución, ¿cómo podrías usar el modelo para hallar una asignación distinta?  \n",
        "**Sugerencia:** sea $s_t$ el valor de $x_t$ en la solución del punto 1), necesitamos que para <u>al menos</u> un $t$, valga que $x_t\\neq s_t$.\n",
        "Como $x_t,s_t\\in\\mathbb{Z}$, vale:\n",
        "$$x_t\\neq s_t\\iff |x_t-s_t|\\geq 1$$"
      ],
      "metadata": {
        "id": "lz_mUh3OJPDG"
      }
    },
    {
      "cell_type": "code",
      "source": [
        "# Cantidad de operarios\n",
        "N = 60\n",
        "\n",
        "# Cotas inferiores y superiores de operarios para cada trabajo\n",
        "l = np.array([2, 5, 2, 4, 1, 4, 5, 1, 4, 4, 1, 3, 5, 3, 3])\n",
        "u = np.array([8, 9, 8, 10, 9, 9, 8, 10, 8, 8, 7, 9, 10, 8, 8])\n",
        "\n",
        "# Conjunto Gamma\n",
        "Gamma = {3, 5, 7, 11}\n",
        "\n",
        "# Valores de m\n",
        "m = {3: 4, 5: 3, 7: 4, 11: 2}\n",
        "\n",
        "# Valor de E\n",
        "E = 8\n",
        "\n",
        "# Valor de M\n",
        "M = ???"
      ],
      "metadata": {
        "id": "i8GWYkT1LWvu"
      },
      "execution_count": null,
      "outputs": []
    },
    {
      "cell_type": "code",
      "execution_count": null,
      "metadata": {
        "id": "S2JDVcmrI6Ql"
      },
      "outputs": [],
      "source": [
        "model = Model('operarios')\n",
        "\n",
        "################################################\n",
        "## Definir las variables y escribir el modelo ##\n",
        "################################################\n",
        "\n",
        "model.redirectOutput()\n",
        "model.optimize()\n",
        "sol = model.getBestSol()\n",
        "model.writeSol(sol, 'solucion_operarios.sol')"
      ]
    },
    {
      "cell_type": "markdown",
      "source": [
        "2. Para hallar una solución distinta a la que ya obtuvimos, podemos guardar la solución obtenida en un diccionario `s`, tal que `s[t]` tenga el valor de $x_t$ en la solucion obtenida con el punto 1:"
      ],
      "metadata": {
        "id": "P0RaAZdw1Nci"
      }
    },
    {
      "cell_type": "code",
      "source": [
        "s = {i: sol[x[t]] for t in T}"
      ],
      "metadata": {
        "id": "IPs1mGHJyuBp"
      },
      "execution_count": null,
      "outputs": []
    },
    {
      "cell_type": "code",
      "source": [
        "model2 = Model('operarios_2')\n",
        "\n",
        "#######################################################\n",
        "## Volvemos a escribir el modelo, agregando las      ##\n",
        "## variables y restricciones necesarias para obtener ##\n",
        "## una asignacion distinta a s                       ##\n",
        "#######################################################\n",
        "\n",
        "model2.redirectOutput()\n",
        "model2.optimize()\n",
        "sol = model.getBestSol()\n",
        "model2.writeSol(sol, 'solucion_operarios_2.sol')"
      ],
      "metadata": {
        "id": "7hXmqCs-P0CP"
      },
      "execution_count": null,
      "outputs": []
    }
  ]
}