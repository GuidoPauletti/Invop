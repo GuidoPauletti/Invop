{
 "cells": [
  {
   "cell_type": "markdown",
   "id": "b61e03da",
   "metadata": {},
   "source": [
    "### Ejercicio 1"
   ]
  },
  {
   "cell_type": "code",
   "execution_count": 1,
   "id": "2be68fcb",
   "metadata": {},
   "outputs": [],
   "source": [
    "# Importamos la clase Model de pyscipopt\n",
    "from pyscipopt import Model\n",
    "# Importamos numpy\n",
    "import numpy as np"
   ]
  },
  {
   "cell_type": "code",
   "execution_count": 2,
   "id": "db42630c",
   "metadata": {},
   "outputs": [],
   "source": [
    "# Cantidad de potenciales empresas a ser adquiridas\n",
    "N = 20\n",
    "\n",
    "# Cantidad de rubros\n",
    "S = 5\n",
    "\n",
    "# Que empresas pertenecen a cada rubro\n",
    "E = {0: [5, 18, 19],\n",
    "    1: [7, 12],\n",
    "    2: [2, 6, 10, 11, 16, 17],\n",
    "    3: [1, 4, 8, 9, 13],\n",
    "    4: [0, 3, 14, 15]}\n",
    "\n",
    "# Maxima cantidad de cada rubro que puede ser adquirida\n",
    "m = np.array([3, 1, 4, 4, 3])\n",
    "\n",
    "# Presupuesto para cada mes\n",
    "d = np.array([100, 120, 90, 50, 75, 60, 110, 85, 90, 105, 100, 50])\n",
    "\n",
    "# Precio de cada empresa a lo largo del año (cada fila le corresponde a una empresa)\n",
    "p = np.array([[79, 76, 76, 71, 69, 69, 59, 57, 53, 51, 47, 39],\n",
    "              [81, 68, 68, 63, 62, 59, 58, 53, 42, 41, 40, 33],\n",
    "              [84, 73, 70, 64, 50, 49, 48, 40, 40, 34, 34, 31],\n",
    "              [84, 74, 69, 68, 63, 57, 56, 49, 41, 39, 32, 32],\n",
    "              [84, 79, 79, 74, 74, 74, 72, 72, 59, 37, 37, 32],\n",
    "              [84, 80, 79, 72, 66, 66, 64, 56, 50, 45, 43, 41],\n",
    "              [84, 76, 52, 49, 47, 46, 40, 39, 37, 36, 34, 30],\n",
    "              [82, 80, 79, 78, 75, 71, 64, 60, 45, 43, 35, 31],\n",
    "              [84, 81, 81, 79, 73, 71, 61, 60, 60, 40, 31, 30],\n",
    "              [83, 79, 78, 76, 72, 66, 57, 54, 53, 49, 47, 45],\n",
    "              [83, 78, 76, 74, 73, 62, 57, 56, 42, 35, 32, 31],\n",
    "              [84, 83, 82, 82, 64, 63, 54, 44, 39, 39, 35, 31],\n",
    "              [81, 80, 72, 72, 70, 61, 55, 52, 42, 42, 38, 34],\n",
    "              [81, 81, 72, 62, 59, 59, 51, 51, 50, 47, 34, 30],\n",
    "              [84, 82, 79, 77, 76, 73, 67, 63, 60, 56, 50, 48],\n",
    "              [77, 77, 70, 69, 68, 67, 65, 62, 54, 41, 34, 30],\n",
    "              [80, 76, 74, 71, 71, 69, 65, 46, 44, 39, 36, 32],\n",
    "              [84, 83, 81, 76, 75, 68, 64, 63, 53, 48, 36, 30],\n",
    "              [74, 74, 69, 68, 62, 61, 58, 53, 44, 41, 36, 31],\n",
    "              [80, 77, 71, 69, 63, 60, 59, 53, 52, 51, 44, 40]])\n",
    "\n",
    "# Ganancia obtenida a fin de año por adquirir cada una de las empresas\n",
    "# (cada fila le corresponde a una empresa)\n",
    "g = np.array([[132, 130, 121, 112, 111,  96,  89,  88,  86,  80,  70,  61],\n",
    "              [132, 123, 122, 113, 113, 106, 106,  70,  66,  64,  61,  61],\n",
    "              [127, 115, 114, 107, 101,  79,  78,  78,  68,  68,  65,  64],\n",
    "              [133, 129, 103, 100,  82,  78,  74,  70,  69,  64,  63,  60],\n",
    "              [127, 122, 117, 112, 109, 108, 108, 105,  83,  77,  72,  71],\n",
    "              [131, 118, 105,  99,  97,  89,  81,  80,  76,  69,  66,  62],\n",
    "              [121, 120, 117, 115, 108, 102,  98,  93,  90,  84,  71,  60],\n",
    "              [129, 127, 127, 125, 122, 120,  98,  96,  95,  90,  73,  60],\n",
    "              [122, 121, 118, 114, 104,  98,  87,  65,  63,  63,  60,  60],\n",
    "              [127, 121, 111, 104, 103,  94,  91,  89,  88,  82,  77,  74],\n",
    "              [134, 131, 123, 111,  94,  92,  85,  81,  80,  67,  63,  60],\n",
    "              [131, 119, 115, 109, 101,  95,  92,  87,  78,  77,  66,  60],\n",
    "              [133, 132, 121, 115, 112, 105,  91,  89,  88,  81,  74,  69],\n",
    "              [124, 123, 115, 113, 112, 111, 100,  97,  80,  73,  66,  65],\n",
    "              [128, 126, 103, 102,  88,  81,  79,  75,  68,  64,  64,  62],\n",
    "              [132, 119, 112, 112, 109, 109,  98,  95,  81,  80,  66,  61],\n",
    "              [132,  95,  93,  88,  82,  80,  80,  78,  67,  66,  61,  61],\n",
    "              [134, 131, 118, 116, 110, 102, 101,  95,  91,  89,  78,  71],\n",
    "              [130, 128, 121, 120, 113, 103,  94,  87,  82,  81,  73,  73],\n",
    "              [124, 115, 112, 109,  94,  92,  86,  83,  79,  74,  71,  61]])"
   ]
  },
  {
   "cell_type": "code",
   "execution_count": 3,
   "id": "775c7db1",
   "metadata": {},
   "outputs": [],
   "source": [
    "model = Model('MicroApple')"
   ]
  },
  {
   "cell_type": "code",
   "execution_count": 4,
   "id": "da65daef",
   "metadata": {},
   "outputs": [],
   "source": [
    "# Inicializamos la matriz vacía\n",
    "x = np.empty((N, 12), dtype='object')\n",
    "\n",
    "# La vamos completando con las variables\n",
    "for i in range(N):\n",
    "  for k in range(12):\n",
    "    x[i, k] = model.addVar(f'x_{i}_{k}', vtype='B')\n"
   ]
  },
  {
   "cell_type": "code",
   "execution_count": 5,
   "id": "2353cf69",
   "metadata": {},
   "outputs": [
    {
     "data": {
      "text/plain": [
       "c38"
      ]
     },
     "execution_count": 5,
     "metadata": {},
     "output_type": "execute_result"
    }
   ],
   "source": [
    "# Comprar cada empresa a lo sumo una vez\n",
    "for i in range(N):\n",
    "  model.addCons(sum(x[i, k] for k in range(12)) <= 1)\n",
    "\n",
    "# Respetar el presupuesto mensual\n",
    "for k in range(12):\n",
    "  model.addCons(sum(p[i, k] * x[i, k] for i in range(N)) <= d[k])\n",
    "\n",
    "# Reglamentacion antimonopolio\n",
    "for s in range(S):\n",
    "  model.addCons(sum(x[i, k] for i in E[s] for k in range(12)) <= m[s])\n",
    "\n",
    "# Comprar a lo sumo una de las empresas 5, 7, 11\n",
    "model.addCons(sum(x[i,k] for i in [5,7,11] for k in range(12)) <= 1)"
   ]
  },
  {
   "cell_type": "code",
   "execution_count": 6,
   "id": "6400c7b0",
   "metadata": {},
   "outputs": [],
   "source": [
    "model.setObjective(sum(x[i,k]*g[i,k] for i in range(N) for k in range(12)), sense='maximize')"
   ]
  },
  {
   "cell_type": "code",
   "execution_count": 7,
   "id": "c05c5e89",
   "metadata": {},
   "outputs": [
    {
     "name": "stdout",
     "output_type": "stream",
     "text": [
      "feasible solution found by trivial heuristic after 0.0 seconds, objective value 0.000000e+00\n",
      "presolving:\n",
      "(round 1, fast)       34 del vars, 1 del conss, 0 add conss, 34 chg bounds, 0 chg sides, 0 chg coeffs, 0 upgd conss, 0 impls, 48 clqs\n",
      "(round 2, exhaustive) 34 del vars, 5 del conss, 0 add conss, 34 chg bounds, 4 chg sides, 0 chg coeffs, 0 upgd conss, 0 impls, 48 clqs\n",
      "(round 3, exhaustive) 34 del vars, 5 del conss, 0 add conss, 34 chg bounds, 4 chg sides, 0 chg coeffs, 33 upgd conss, 0 impls, 48 clqs\n",
      "(round 4, fast)       34 del vars, 11 del conss, 6 add conss, 34 chg bounds, 4 chg sides, 33 chg coeffs, 33 upgd conss, 0 impls, 48 clqs\n",
      "(round 5, medium)     34 del vars, 14 del conss, 10 add conss, 34 chg bounds, 8 chg sides, 82 chg coeffs, 33 upgd conss, 0 impls, 48 clqs\n",
      "(round 6, exhaustive) 34 del vars, 15 del conss, 10 add conss, 34 chg bounds, 8 chg sides, 82 chg coeffs, 33 upgd conss, 0 impls, 48 clqs\n",
      "(round 7, exhaustive) 46 del vars, 15 del conss, 10 add conss, 34 chg bounds, 8 chg sides, 82 chg coeffs, 33 upgd conss, 0 impls, 47 clqs\n",
      "(round 8, fast)       46 del vars, 15 del conss, 10 add conss, 34 chg bounds, 8 chg sides, 92 chg coeffs, 33 upgd conss, 0 impls, 47 clqs\n",
      "(round 9, medium)     46 del vars, 16 del conss, 11 add conss, 34 chg bounds, 9 chg sides, 110 chg coeffs, 33 upgd conss, 0 impls, 47 clqs\n",
      "(round 10, fast)       46 del vars, 17 del conss, 12 add conss, 34 chg bounds, 9 chg sides, 110 chg coeffs, 33 upgd conss, 0 impls, 47 clqs\n",
      "(round 11, exhaustive) 47 del vars, 17 del conss, 12 add conss, 34 chg bounds, 9 chg sides, 110 chg coeffs, 33 upgd conss, 0 impls, 47 clqs\n",
      "   (0.0s) probing: 51/193 (26.4%) - 0 fixings, 0 aggregations, 0 implications, 0 bound changes\n",
      "   (0.0s) probing aborted: 50/50 successive totally useless probings\n",
      "   (0.0s) symmetry computation started: requiring (bin +, int +, cont +), (fixed: bin -, int -, cont -)\n",
      "   (0.0s) no symmetry present (symcode time: 0.00)\n",
      "presolving (12 rounds: 12 fast, 8 medium, 6 exhaustive):\n",
      " 47 deleted vars, 17 deleted constraints, 12 added constraints, 34 tightened bounds, 0 added holes, 9 changed sides, 110 changed coefficients\n",
      " 0 implications, 47 cliques\n",
      "presolved problem has 193 variables (193 bin, 0 int, 0 impl, 0 cont) and 33 constraints\n",
      "      7 constraints of type <knapsack>\n",
      "     26 constraints of type <setppc>\n",
      "transformed objective value is always integral (scale: 1)\n",
      "Presolving Time: 0.00\n",
      "transformed 1/1 original solutions to the transformed problem space\n",
      "\n",
      " time | node  | left  |LP iter|LP it/n|mem/heur|mdpt |vars |cons |rows |cuts |sepa|confs|strbr|  dualbound   | primalbound  |  gap   | compl. \n",
      "p 0.0s|     1 |     0 |     0 |     - |  clique|   0 | 193 |  33 |  33 |   0 |  0 |   0 |   0 | 1.798700e+04 | 1.240000e+03 |1350.56%| unknown\n",
      "p 0.0s|     1 |     0 |     0 |     - | vbounds|   0 | 193 |  33 |  33 |   0 |  0 |   0 |   0 | 1.798700e+04 | 1.259000e+03 |1328.67%| unknown\n",
      "  0.0s|     1 |     0 |    59 |     - |  2924k |   0 | 193 |  33 |  33 |   0 |  0 |   0 |   0 | 1.505903e+03 | 1.259000e+03 |  19.61%| unknown\n",
      "r 0.0s|     1 |     0 |    59 |     - |simplero|   0 | 193 |  33 |  33 |   0 |  0 |   0 |   0 | 1.505903e+03 | 1.260000e+03 |  19.52%| unknown\n",
      "i 0.0s|     1 |     0 |    59 |     - |  oneopt|   0 | 193 |  33 |  33 |   0 |  0 |   0 |   0 | 1.505903e+03 | 1.481000e+03 |   1.68%| unknown\n",
      "  0.0s|     1 |     0 |    69 |     - |  3058k |   0 | 193 |  33 |  36 |   3 |  1 |   0 |   0 | 1.498488e+03 | 1.481000e+03 |   1.18%| unknown\n",
      "  0.0s|     1 |     0 |    69 |     - |  3061k |   0 | 193 |  33 |  36 |   3 |  1 |   0 |   0 | 1.498488e+03 | 1.481000e+03 |   1.18%| unknown\n",
      "  0.0s|     1 |     0 |    76 |     - |  3095k |   0 | 193 |  33 |  39 |   6 |  2 |   0 |   0 | 1.497499e+03 | 1.481000e+03 |   1.11%| unknown\n",
      "  0.0s|     1 |     0 |    76 |     - |  3095k |   0 | 193 |  33 |  39 |   6 |  2 |   0 |   0 | 1.497499e+03 | 1.481000e+03 |   1.11%| unknown\n",
      "  0.0s|     1 |     0 |    80 |     - |  3186k |   0 | 193 |  33 |  42 |   9 |  3 |   0 |   0 | 1.497263e+03 | 1.481000e+03 |   1.10%| unknown\n",
      "  0.0s|     1 |     0 |    92 |     - |  3390k |   0 | 193 |  33 |  45 |  12 |  4 |   0 |   0 | 1.496727e+03 | 1.481000e+03 |   1.06%| unknown\n",
      "r 0.0s|     1 |     0 |    92 |     - |randroun|   0 | 193 |  33 |  45 |   0 |  4 |   0 |   0 | 1.496727e+03 | 1.496000e+03 |   0.05%| unknown\n",
      "  0.0s|     1 |     0 |    92 |     - |  3393k |   0 | 193 |  33 |  45 |  12 |  4 |   0 |   0 | 1.496000e+03 | 1.496000e+03 |   0.00%| unknown\n",
      "  0.0s|     1 |     0 |    92 |     - |  3393k |   0 | 193 |  33 |  45 |  12 |  4 |   0 |   0 | 1.496000e+03 | 1.496000e+03 |   0.00%| unknown\n",
      "\n",
      "SCIP Status        : problem is solved [optimal solution found]\n",
      "Solving Time (sec) : 0.00\n",
      "Solving Nodes      : 1\n",
      "Primal Bound       : +1.49600000000000e+03 (12 solutions)\n",
      "Dual Bound         : +1.49600000000000e+03\n",
      "Gap                : 0.00 %\n"
     ]
    }
   ],
   "source": [
    "model.redirectOutput()\n",
    "model.optimize()"
   ]
  },
  {
   "cell_type": "code",
   "execution_count": 8,
   "id": "c1ea050f",
   "metadata": {},
   "outputs": [],
   "source": [
    "sol = model.getBestSol()\n",
    "model.writeSol(sol, 'solucion_MicroApple.sol')"
   ]
  }
 ],
 "metadata": {
  "kernelspec": {
   "display_name": "Python 3",
   "language": "python",
   "name": "python3"
  },
  "language_info": {
   "codemirror_mode": {
    "name": "ipython",
    "version": 3
   },
   "file_extension": ".py",
   "mimetype": "text/x-python",
   "name": "python",
   "nbconvert_exporter": "python",
   "pygments_lexer": "ipython3",
   "version": "3.13.5"
  }
 },
 "nbformat": 4,
 "nbformat_minor": 5
}
