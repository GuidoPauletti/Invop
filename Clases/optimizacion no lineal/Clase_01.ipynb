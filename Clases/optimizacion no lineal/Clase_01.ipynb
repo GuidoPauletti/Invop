{
  "cells": [
    {
      "cell_type": "markdown",
      "metadata": {
        "collapsed": true,
        "pycharm": {},
        "id": "TIAInzb33gJZ"
      },
      "source": [
        "### Introducción a la Investigación Operativa y la Optimización\n",
        "\n",
        "### • Numpy - Derivadas parciales - Algoritmo de Newton Generalizado\n",
        "\n",
        "**Nazareno Faillace Mullen - Departamento de Matemática, FCEN, UBA**"
      ]
    },
    {
      "cell_type": "markdown",
      "source": [
        "# Python: `Numpy`"
      ],
      "metadata": {
        "id": "-f9iwlyR3_dZ"
      }
    },
    {
      "cell_type": "markdown",
      "source": [
        "Utilizaremos los objetos `array` de la librería `numpy` para trabajar con vectores y matrices en Python.\n",
        "\n",
        "Importamos la librería `numpy` con el alias `np` (para que sea más rápido escribirlo luego):"
      ],
      "metadata": {
        "id": "p1LtF8_44EtQ"
      }
    },
    {
      "cell_type": "code",
      "source": [
        "import numpy as np"
      ],
      "metadata": {
        "id": "ImRckDiQ4eud"
      },
      "execution_count": null,
      "outputs": []
    },
    {
      "cell_type": "markdown",
      "source": [
        "Una vez hecho eso, podemos empezar a trabajar con _arrays_. Veamos un par de ejemplos.\n",
        "\n",
        "Definimos los vectores $v=(0, 1, -1)$ y $w=(2,1, 3)$."
      ],
      "metadata": {
        "id": "xC4QqPny4mcs"
      }
    },
    {
      "cell_type": "code",
      "execution_count": null,
      "metadata": {
        "id": "iAEd4cgH4HJC"
      },
      "outputs": [],
      "source": [
        "v = np.array([0, 1, -1])\n",
        "w = np.array([2, 1, 3])"
      ]
    },
    {
      "cell_type": "markdown",
      "source": [
        "Veamos cómo operar con vectores:"
      ],
      "metadata": {
        "id": "aKP1b8b9407S"
      }
    },
    {
      "cell_type": "code",
      "source": [
        "print('Resultado de v + w: ', v + w )\n",
        "print('Resultado de v * w: ', v * w )\n",
        "print('Resultado de v @ w: ', v @ w )\n",
        "print('Resultado de v + 2: ', v + 2 )\n",
        "print('Resultado de v * 2: ', v * 2 )"
      ],
      "metadata": {
        "id": "dEho38qO5RzF",
        "colab": {
          "base_uri": "https://localhost:8080/"
        },
        "outputId": "08547cc8-1c4f-483b-a1d4-1b8f89664442"
      },
      "execution_count": null,
      "outputs": [
        {
          "output_type": "stream",
          "name": "stdout",
          "text": [
            "Resultado de v + w:  [2 2 2]\n",
            "Resultado de v * w:  [ 0  1 -3]\n",
            "Resultado de v @ w:  -2\n",
            "Resultado de v + 2:  [2 3 1]\n",
            "Resultado de v * 2:  [ 0  2 -2]\n"
          ]
        }
      ]
    },
    {
      "cell_type": "markdown",
      "source": [
        "Las matrices se definen de manera similar a los vectores, sólo que en vez de estar definidas en base a listas, lo están en base a listas de listas. Definimos la siguiente matriz:\n",
        "$$A =\\left( \\begin{array}{ccc}\n",
        "1 & -3 & 2 \\\\\n",
        "0 & 6 & -2 \\\\\n",
        "4 & 8 & 0 \\\\\n",
        "\\end{array} \\right)\n",
        "$$"
      ],
      "metadata": {
        "id": "nMOxkVP15wcY"
      }
    },
    {
      "cell_type": "code",
      "execution_count": null,
      "metadata": {
        "id": "R6lcbkSu4HJD"
      },
      "outputs": [],
      "source": [
        "A = np.array([[1, -3, 2], [0, 6, -2], [4, 8 ,0]]) # Notar que cada una de las listas es una fila"
      ]
    },
    {
      "cell_type": "markdown",
      "metadata": {
        "id": "Ob-2RRli4HJD"
      },
      "source": [
        "También se pueden realizar operaciones entre matrices o entre matrices y vectores, siempre y cuando las dimensiones sean adecuadas. Lo bueno de definir vectores como _arrays_ es que no tenemos que preocuparnos por trasponerlos si deseamos multiplicarlos por una matriz:"
      ]
    },
    {
      "cell_type": "code",
      "execution_count": null,
      "metadata": {
        "id": "e63Du5vd4HJE",
        "colab": {
          "base_uri": "https://localhost:8080/"
        },
        "outputId": "c0dc446e-4562-422c-cacd-2ae61bf49c9b"
      },
      "outputs": [
        {
          "output_type": "stream",
          "name": "stdout",
          "text": [
            "[-5  8  8]\n"
          ]
        }
      ],
      "source": [
        "b = A @ v\n",
        "print(b)"
      ]
    },
    {
      "cell_type": "markdown",
      "metadata": {
        "id": "ClFf-UDH4HJE"
      },
      "source": [
        "Recordar que $v=(0, 1, -1)$, sin embargo, para efectuar el cálculo $Av^t$, no necesitamos trasponer `v`."
      ]
    },
    {
      "cell_type": "markdown",
      "metadata": {
        "id": "u_VMukxK4HJE"
      },
      "source": [
        "También podemos acceder a elementos de un _array_. Si se trata de un vector, accedemos a un elemento como lo haríamos si se tratara de una lista, es decir, con `[ ]`. En el caso de las matrices, la sintaxis es `[fila, columna]`. Por ejemplo, `A[0,1]` es $A_{1 2}$.\n",
        "\n",
        "Veamos algunos ejemplos:"
      ]
    },
    {
      "cell_type": "code",
      "execution_count": null,
      "metadata": {
        "id": "smQ9zaY24HJE",
        "colab": {
          "base_uri": "https://localhost:8080/"
        },
        "outputId": "38dcdf68-f10d-40c5-ad19-de240597f24d"
      },
      "outputs": [
        {
          "output_type": "stream",
          "name": "stdout",
          "text": [
            "Segunda coordenada de v :  1\n",
            "Primera coordenada de w :  2\n",
            "Elemento de la segunda fila y primera columna de A:  0\n",
            "Segunda columna de A:  [-3  6  8]\n",
            "Tercera fila de A:  [4 8 0]\n"
          ]
        }
      ],
      "source": [
        "print('Segunda coordenada de v : ', v[1])\n",
        "print('Primera coordenada de w : ', w[0])\n",
        "print('Elemento de la segunda fila y primera columna de A: ', A[1,0])\n",
        "print('Segunda columna de A: ', A[:,1])\n",
        "print('Tercera fila de A: ', A[2,:])"
      ]
    },
    {
      "cell_type": "markdown",
      "source": [
        "### Ejercicio\n",
        "\n",
        "Determinar qué hacen los siguientes métodos o funciones de `numpy`"
      ],
      "metadata": {
        "id": "sayu1ccuFmaI"
      }
    },
    {
      "cell_type": "code",
      "source": [
        "v.shape[0]"
      ],
      "metadata": {
        "id": "nrntpVVxbf9J",
        "colab": {
          "base_uri": "https://localhost:8080/"
        },
        "outputId": "6fa2325a-0ec2-4741-e3b2-e82584d89fd3"
      },
      "execution_count": null,
      "outputs": [
        {
          "output_type": "execute_result",
          "data": {
            "text/plain": [
              "3"
            ]
          },
          "metadata": {},
          "execution_count": 9
        }
      ]
    },
    {
      "cell_type": "code",
      "source": [
        "A.shape[1]"
      ],
      "metadata": {
        "id": "ci78wOsxF6Yr",
        "colab": {
          "base_uri": "https://localhost:8080/"
        },
        "outputId": "c710a163-55e4-4182-d4f6-f4403e735019"
      },
      "execution_count": null,
      "outputs": [
        {
          "output_type": "execute_result",
          "data": {
            "text/plain": [
              "3"
            ]
          },
          "metadata": {},
          "execution_count": 10
        }
      ]
    },
    {
      "cell_type": "code",
      "source": [
        "A.T"
      ],
      "metadata": {
        "id": "vBGtEgRJGhjg",
        "colab": {
          "base_uri": "https://localhost:8080/"
        },
        "outputId": "c17995ef-5497-4f8d-cc94-62949e10ad39"
      },
      "execution_count": null,
      "outputs": [
        {
          "output_type": "execute_result",
          "data": {
            "text/plain": [
              "array([[ 1,  0,  4],\n",
              "       [-3,  6,  8],\n",
              "       [ 2, -2,  0]])"
            ]
          },
          "metadata": {},
          "execution_count": 11
        }
      ]
    },
    {
      "cell_type": "code",
      "source": [
        "np.zeros(A.shape)"
      ],
      "metadata": {
        "id": "NGDKdx0DF7wE",
        "colab": {
          "base_uri": "https://localhost:8080/"
        },
        "outputId": "92e26683-a7d6-48d2-a1d3-d29f516aaa4b"
      },
      "execution_count": null,
      "outputs": [
        {
          "output_type": "execute_result",
          "data": {
            "text/plain": [
              "array([[0., 0., 0.],\n",
              "       [0., 0., 0.],\n",
              "       [0., 0., 0.]])"
            ]
          },
          "metadata": {},
          "execution_count": 12
        }
      ]
    },
    {
      "cell_type": "code",
      "source": [
        "np.eye(4)"
      ],
      "metadata": {
        "id": "PoVpn6LRGLF4",
        "colab": {
          "base_uri": "https://localhost:8080/"
        },
        "outputId": "3c9bd122-d92e-44ae-d558-e25fb0a4e8b6"
      },
      "execution_count": null,
      "outputs": [
        {
          "output_type": "execute_result",
          "data": {
            "text/plain": [
              "array([[1., 0., 0., 0.],\n",
              "       [0., 1., 0., 0.],\n",
              "       [0., 0., 1., 0.],\n",
              "       [0., 0., 0., 1.]])"
            ]
          },
          "metadata": {},
          "execution_count": 13
        }
      ]
    },
    {
      "cell_type": "code",
      "source": [
        "z = np.array([3,4,0])\n",
        "np.linalg.norm(z)"
      ],
      "metadata": {
        "id": "wuCOBpUUGN6W",
        "colab": {
          "base_uri": "https://localhost:8080/"
        },
        "outputId": "4a9fdb73-2ecd-49cf-b729-fa2512139b86"
      },
      "execution_count": null,
      "outputs": [
        {
          "output_type": "execute_result",
          "data": {
            "text/plain": [
              "np.float64(5.0)"
            ]
          },
          "metadata": {},
          "execution_count": 14
        }
      ]
    },
    {
      "cell_type": "code",
      "source": [
        "B = A.copy()\n",
        "B"
      ],
      "metadata": {
        "id": "uwLYCKAQGl2j",
        "colab": {
          "base_uri": "https://localhost:8080/"
        },
        "outputId": "fa45bc64-a9ea-412c-d6ad-baf058cf2eec"
      },
      "execution_count": null,
      "outputs": [
        {
          "output_type": "execute_result",
          "data": {
            "text/plain": [
              "array([[ 1, -3,  2],\n",
              "       [ 0,  6, -2],\n",
              "       [ 4,  8,  0]])"
            ]
          },
          "metadata": {},
          "execution_count": 20
        }
      ]
    },
    {
      "cell_type": "code",
      "source": [
        "A[0,0] = 9\n",
        "A"
      ],
      "metadata": {
        "colab": {
          "base_uri": "https://localhost:8080/"
        },
        "id": "PjEcvthSXlNB",
        "outputId": "4892c1ad-79f1-4be2-eda5-2933696fdd5e"
      },
      "execution_count": null,
      "outputs": [
        {
          "output_type": "execute_result",
          "data": {
            "text/plain": [
              "array([[ 9, -3,  2],\n",
              "       [ 0,  6, -2],\n",
              "       [ 4,  8,  0]])"
            ]
          },
          "metadata": {},
          "execution_count": 21
        }
      ]
    },
    {
      "cell_type": "code",
      "source": [
        "B"
      ],
      "metadata": {
        "colab": {
          "base_uri": "https://localhost:8080/"
        },
        "id": "ZRf9Uiw7XpAQ",
        "outputId": "7864cc80-421c-4976-aed9-ce7639c55f30"
      },
      "execution_count": null,
      "outputs": [
        {
          "output_type": "execute_result",
          "data": {
            "text/plain": [
              "array([[ 1, -3,  2],\n",
              "       [ 0,  6, -2],\n",
              "       [ 4,  8,  0]])"
            ]
          },
          "metadata": {},
          "execution_count": 22
        }
      ]
    },
    {
      "cell_type": "markdown",
      "source": [
        "# Python: funciones anónimas"
      ],
      "metadata": {
        "id": "FYF44EP4BA_s"
      }
    },
    {
      "cell_type": "markdown",
      "metadata": {
        "pycharm": {},
        "id": "CDi-qx6VBZsc"
      },
      "source": [
        "En Python, el comando `lambda` nos permite definir funciones anónimas (es decir, funciones que no definimos utilizando `def`). Una de sus ventajas  es la posibilidad de definir nuevas funciones a partir de otras, pero manteniendo fijos ciertos argumentos. Por ejemplo, en nuestro código definimos la siguiente función:"
      ]
    },
    {
      "cell_type": "code",
      "execution_count": null,
      "metadata": {
        "pycharm": {
          "is_executing": false
        },
        "id": "rzhz_a2vBZsh"
      },
      "outputs": [],
      "source": [
        "def pot(base, potencia):\n",
        "    return base**potencia"
      ]
    },
    {
      "cell_type": "code",
      "source": [
        "def potencia_2(x):\n",
        "  return pot(2,x)"
      ],
      "metadata": {
        "id": "qoTMOaGtYcwI"
      },
      "execution_count": null,
      "outputs": []
    },
    {
      "cell_type": "markdown",
      "metadata": {
        "pycharm": {},
        "id": "p7042pqTBZsi"
      },
      "source": [
        "Supongamos ahora que en alguna parte del código necesitamos una nueva función que calcule sólo las potencias de $2$. Aquí puede resultar útil declarar una función anónima:"
      ]
    },
    {
      "cell_type": "code",
      "execution_count": null,
      "metadata": {
        "pycharm": {},
        "id": "Pj75c9TEBZsj"
      },
      "outputs": [],
      "source": [
        "g = lambda x: pot(2,x)"
      ]
    },
    {
      "cell_type": "markdown",
      "metadata": {
        "pycharm": {},
        "id": "MILYZHeQBZsk"
      },
      "source": [
        "Ahora `g` es una función. Notar que `2` está fijo, entonces `g` calcula $2^x$. Veámoslo:"
      ]
    },
    {
      "cell_type": "code",
      "execution_count": null,
      "metadata": {
        "pycharm": {},
        "id": "7t2zkXh7BZsk",
        "colab": {
          "base_uri": "https://localhost:8080/"
        },
        "outputId": "6259287b-8472-4097-be81-0fd4f22f984b"
      },
      "outputs": [
        {
          "output_type": "stream",
          "name": "stdout",
          "text": [
            "4\n",
            "16\n",
            "0.5\n"
          ]
        }
      ],
      "source": [
        "print(g(2))\n",
        "print(g(4))\n",
        "print(g(-1))"
      ]
    },
    {
      "cell_type": "markdown",
      "source": [
        "### Ejercicio\n",
        "\n",
        "Dados una lista y un número, la siguiente función cuenta las veces que aparece el número en la lista."
      ],
      "metadata": {
        "id": "AJ1WSYmEBtHZ"
      }
    },
    {
      "cell_type": "code",
      "source": [
        "def contar(ls, n):\n",
        "  c = 0\n",
        "  for i in ls:\n",
        "    if i == n:\n",
        "      c += 1\n",
        "  return c"
      ],
      "metadata": {
        "id": "Mq5op51dBso9"
      },
      "execution_count": null,
      "outputs": []
    },
    {
      "cell_type": "markdown",
      "source": [
        "Usando funciones anónimas y `contar`, definir:\n",
        "1. una función que calcule cuántas veces aparece 0 en una lista\n",
        "2. una función que calcule cuántas veces aparece un número en `[4, -1, 5, 2, -1]`"
      ],
      "metadata": {
        "id": "MulEpScODiAf"
      }
    },
    {
      "cell_type": "code",
      "source": [
        "# 1\n",
        "contar_0 = lambda ls: contar(ls, 0)\n",
        "\n",
        "# 2\n",
        "contar_num = lambda n: contar([4, -1, 5, 2, -1], n)"
      ],
      "metadata": {
        "id": "80DShy9PD3tT"
      },
      "execution_count": null,
      "outputs": []
    },
    {
      "cell_type": "code",
      "source": [
        "# Para corroborar\n",
        "print(\"Cantidad de 0's en [0, 1, 0, 0, 5]: \", contar_0([0, 1, 0, 0, 5]))\n",
        "print(\"Cuantas veces aparece -1: \", contar_num(-1))"
      ],
      "metadata": {
        "id": "vE59_CifEbem",
        "colab": {
          "base_uri": "https://localhost:8080/"
        },
        "outputId": "ff50ab02-e0ae-4275-ddcf-b2713bd82bc8"
      },
      "execution_count": null,
      "outputs": [
        {
          "output_type": "stream",
          "name": "stdout",
          "text": [
            "Cantidad de 0's en [0, 1, 0, 0, 5]:  3\n",
            "Cuantas veces aparece -1:  2\n"
          ]
        }
      ]
    },
    {
      "cell_type": "markdown",
      "metadata": {
        "pycharm": {},
        "id": "pXCcmbm-3gJc"
      },
      "source": [
        "# Derivadas para una función en una variable"
      ]
    },
    {
      "cell_type": "markdown",
      "metadata": {
        "pycharm": {},
        "id": "sQ_5Fchf3gJd"
      },
      "source": [
        "## Método forward"
      ]
    },
    {
      "cell_type": "markdown",
      "metadata": {
        "pycharm": {},
        "id": "War0EHC43gJe"
      },
      "source": [
        "$f\\in C^2$ y $h>0$, $f'(x)$ puede aproximarse como:\n",
        "$$f'(x) \\approx \\dfrac{f(x+h)-f(x)}{h}$$\n",
        "\n",
        "\n",
        "<details>\n",
        "<summary>Deducción del método</summary>\n",
        "Dados $f\\in C^2$ y $h>0$, desarrollando Taylor centrado en $x$ tenemos que:\n",
        "$$f(x+h)=f(x) + f'(x)h + \\color{red}{\\dfrac{f''(\\xi)h^2}{2}} \\qquad \\xi\\in(x,x+h)$$\n",
        "$$\\begin{array}{rll}\\Rightarrow f'(x) & = & \\dfrac{f(x+h)-f(x)}{h} - \\color{red}{\\dfrac{f''(\\xi)h}{2}} \\\\ & = & \\dfrac{f(x+h)-f(x)}{h} - \\color{red}{O(h)} \\end{array}$$\n",
        "</details>"
      ]
    },
    {
      "cell_type": "markdown",
      "metadata": {
        "pycharm": {},
        "id": "Urd54saj3gJe"
      },
      "source": [
        "## Método Backward"
      ]
    },
    {
      "cell_type": "markdown",
      "metadata": {
        "pycharm": {},
        "id": "jq6_RLTh3gJf"
      },
      "source": [
        "$f\\in C^2$ y $h>0$, $f'(x)$ puede aproximarse como:\n",
        "$$f'(x) \\approx \\dfrac{f(x)-f(x-h)}{h}$$\n",
        "\n",
        "\n",
        "<details>\n",
        "<summary>Deducción del método</summary>\n",
        "Análogo al método forward. Dados $f\\in C^2$ y $h>0$, desarrollando Taylor centrado en $x$ tenemos que:\n",
        "$$f(x-h)=f(x) - f'(x)h + \\color{red}{\\dfrac{f''(\\xi)h^2}{2}} \\qquad \\xi\\in(x-h,x)$$\n",
        "$$\\begin{array}{rll}\\Rightarrow f'(x) & = & \\dfrac{f(x)-f(x-h)}{h} + \\color{red}{\\dfrac{f''(\\xi)h}{2}} \\\\ & = & \\dfrac{f(x)-f(x-h)}{h} + \\color{red}{O(h)} \\end{array}$$\n",
        "</details>"
      ]
    },
    {
      "cell_type": "markdown",
      "metadata": {
        "pycharm": {},
        "id": "wR3tiPKB3gJf"
      },
      "source": [
        "## Método de centradas"
      ]
    },
    {
      "cell_type": "markdown",
      "metadata": {
        "pycharm": {},
        "id": "8bpKoWSM3gJf"
      },
      "source": [
        "$f\\in C^3$ y $h>0$, $f'(x)$ puede aproximarse como:\n",
        "$$f'(x) \\approx \\dfrac{f(x+h)-f(x-h)}{2h}$$\n",
        "\n",
        "<details>\n",
        "<summary>Deducción del método</summary>\n",
        "Dados $f\\in C^3$ y $h>0$, desarrollando Taylor centrado en $x$ tenemos que:\n",
        "$$f(x+h)=f(x) + f'(x)h + \\dfrac{f''(x)h^2}{2} + \\color{red}{\\dfrac{f'''(\\xi)h^3}{6}} \\qquad \\xi\\in(x,x+h)$$\n",
        "$$f(x-h)=f(x) - f'(x)h + \\dfrac{f''(x)h^2}{2} - \\color{red}{\\dfrac{f'''(\\eta)h^3}{6}} \\qquad \\eta\\in(x-h,x)$$\n",
        "Restando ambas expresiones, obtenemos que:\n",
        "$$f(x+h)-f(x-h) = 2f'(x)h+\\color{red}{\\dfrac{(f'''(\\xi)+f'''(\\eta))h^3}{6}}$$\n",
        "$$\\begin{array}{rll}\\Rightarrow f'(x) & = & \\dfrac{f(x+h)-f(x-h)}{2h} + \\color{red}{\\dfrac{(f'''(\\xi)+f'''(\\eta))h^2}{12}} \\\\ & = & \\dfrac{f(x+h)-f(x-h)}{2h} + \\color{red}{O(h^2)} \\end{array}$$\n",
        "</details>"
      ]
    },
    {
      "cell_type": "markdown",
      "source": [
        "## Ejercicio"
      ],
      "metadata": {
        "id": "1R0kL58hJL4z"
      }
    },
    {
      "cell_type": "markdown",
      "source": [
        "1. Completar la implementación del método forward. Luego, con el uso de `lambda`, definir la función `der_cubo` que calcule la derivada de $x^3$, usando $h=0.001$"
      ],
      "metadata": {
        "id": "QWn_NiU4MZ8z"
      }
    },
    {
      "cell_type": "code",
      "source": [
        "def forward(func, x, h=0.1):\n",
        "  \"\"\" Implementa el metodo forward para aproximar f'(x)\n",
        "  func: una funcion con un argumento (function)\n",
        "  x: el número donde se desea aproximar f' (int o float)\n",
        "  h: longitud del paso para el método (h=0.1 por defecto)\n",
        "  \"\"\"\n",
        "  return (func(x+h)-func(x))/h\n",
        "\n",
        "# Definimos la función f(x) = x^3\n",
        "cubo = lambda x: x**3\n",
        "\n",
        "# Definimos la función f'(x), usando la funcion forward\n",
        "der_cubo = lambda x: forward(cubo, x, h=0.001)"
      ],
      "metadata": {
        "id": "EPHNHhSmJLVH"
      },
      "execution_count": null,
      "outputs": []
    },
    {
      "cell_type": "code",
      "source": [
        "# Para corroborar: esto debería dar aproximadamente 27\n",
        "der_cubo(3)"
      ],
      "metadata": {
        "id": "HHxcJzw9NYxA",
        "colab": {
          "base_uri": "https://localhost:8080/"
        },
        "outputId": "e3e9e214-1174-4b88-dd4b-a6a42a3fae4c"
      },
      "execution_count": null,
      "outputs": [
        {
          "output_type": "execute_result",
          "data": {
            "text/plain": [
              "27.009000999996147"
            ]
          },
          "metadata": {},
          "execution_count": 67
        }
      ]
    },
    {
      "cell_type": "markdown",
      "source": [
        "2. Utilizando el ítem anterior, definir una función `der_der_cubo` que aproxime la derivada segunda de $x^3$"
      ],
      "metadata": {
        "id": "ozVltGCCW31R"
      }
    },
    {
      "cell_type": "code",
      "source": [
        "der_der_cubo = lambda x: forward(der_cubo, x)"
      ],
      "metadata": {
        "id": "hQH4A9tNWlJS"
      },
      "execution_count": null,
      "outputs": []
    },
    {
      "cell_type": "code",
      "source": [
        "# Para corroborar: esto debería dar aproximadamente 18\n",
        "der_der_cubo(3)"
      ],
      "metadata": {
        "id": "x4pgRWjUXJbE",
        "colab": {
          "base_uri": "https://localhost:8080/"
        },
        "outputId": "63b993b6-7dbe-4c2b-8318-eae7d284272d"
      },
      "execution_count": null,
      "outputs": [
        {
          "output_type": "execute_result",
          "data": {
            "text/plain": [
              "18.30299999998175"
            ]
          },
          "metadata": {},
          "execution_count": 69
        }
      ]
    },
    {
      "cell_type": "markdown",
      "metadata": {
        "pycharm": {},
        "id": "LVNFmnPU3gJg"
      },
      "source": [
        "# Derivadas de funciones en varias variables"
      ]
    },
    {
      "cell_type": "markdown",
      "metadata": {
        "pycharm": {},
        "id": "pMFAGKgL3gJi"
      },
      "source": [
        "## Derivadas parciales\n",
        "\n",
        "Sean $f\\colon\\mathbb{R}^n\\rightarrow \\mathbb{R}$, $f\\in C^1$, $h>0$, podemos usar las ideas proporcionadas por los métodos antes vistos para calcular las derivadas parciales. Veamos, por ejemplo, cómo aplicar el método de centradas para aproximar la derivada parcial con respecto a $x_i$:\n",
        "$$\\dfrac{\\partial f}{\\partial x_i}(x) \\approx \\dfrac{f(x+he_i)-f(x-he_i)}{2h}$$\n",
        "\n"
      ]
    },
    {
      "cell_type": "markdown",
      "source": [
        "En el caso de la aproximación de las derivadas parciales, es interesante ir achicando el $h$ hasta que los resultados sean muy parecidos (o iguales) o hasta que la división no esté definida. Así aseguramos una buena aproximación."
      ],
      "metadata": {
        "id": "74KFmvOZPxVk"
      }
    },
    {
      "cell_type": "markdown",
      "source": [
        "### Ejercicio"
      ],
      "metadata": {
        "id": "PSyoUmmkSthu"
      }
    },
    {
      "cell_type": "markdown",
      "source": [
        "1. Completar la implementación de la siguiente función, que calcula $\\dfrac{\\partial f}{\\partial x_i}(x)$. Utilizar el método de centradas."
      ],
      "metadata": {
        "id": "OgEDAMyLSwFZ"
      }
    },
    {
      "cell_type": "code",
      "execution_count": null,
      "metadata": {
        "pycharm": {
          "is_executing": false
        },
        "id": "Z3kkNSBWPr14"
      },
      "outputs": [],
      "source": [
        "from numpy.linalg import norm\n",
        "\n",
        "def derivada_parcial(func,x,i):\n",
        "  \"\"\"\n",
        "  Aproxima la i-esima derivada parcial de la función en x, utilizando diferencias centradas.\n",
        "  func: función a la que se le desea calcular la i-esima derivada parcial (function)\n",
        "  x: punto en el cual se desea calcular la i-esima derivada parcial (array de numpy)\n",
        "  i: indice de la coordenada parcial (int)\n",
        "  \"\"\"\n",
        "  h = 0.1\n",
        "  e_i = np.zeros(x.shape[0])  # np.zeros(len(x))\n",
        "  e_i[i] = 1\n",
        "  z = (func(x + h*e_i) - func(x - h*e_i))/(2*h)\n",
        "  h = h/2\n",
        "  y = (func(x + h*e_i) - func(x - h*e_i))/(2*h)\n",
        "  error = norm(y-z)\n",
        "  eps = 1e-8\n",
        "  while error>eps and (y != np.nan) and (y != np.inf) and y!= 0:\n",
        "      error = norm(y-z)\n",
        "      z = y\n",
        "      h = h/2\n",
        "      y = (func(x + h*e_i) - func(x - h*e_i))/(2*h)\n",
        "  return z"
      ]
    },
    {
      "cell_type": "markdown",
      "source": [
        "2. Calcular $\\dfrac{\\partial f}{\\partial x_1}(2,1)$ y $\\dfrac{\\partial f}{\\partial x_2}(2,1)$ para $f(x)=3x_1x_2+x_2^3$"
      ],
      "metadata": {
        "id": "6tM2KPprUPM2"
      }
    },
    {
      "cell_type": "code",
      "source": [
        "f = lambda x: 3*x[0]*x[1] + x[1]**3\n",
        "\n",
        "# Derivada parical respecto a x_1 evaluada en 2\n",
        "print(derivada_parcial(f, np.array((2,1)), 0))\n",
        "\n",
        "# Derivada parical respecto a x_2 evaluada en 2\n",
        "print(derivada_parcial(f, np.array((2,1)), 1))"
      ],
      "metadata": {
        "id": "IoWz-CtmTIcY",
        "colab": {
          "base_uri": "https://localhost:8080/"
        },
        "outputId": "1902dbd5-49ac-4e59-b14f-a4f01038b1c4"
      },
      "execution_count": null,
      "outputs": [
        {
          "output_type": "stream",
          "name": "stdout",
          "text": [
            "3.000000000000007\n",
            "9.000000002370143\n"
          ]
        }
      ]
    },
    {
      "cell_type": "markdown",
      "source": [
        "## Gradiente\n",
        "\n",
        "Una vez que tenemos las aproximaciones de las derivadas parciales, calcular el gradiente de $f$ es trivial, teniendo en cuenta que:\n",
        "$$\\nabla f (x) = \\left(\\dfrac{\\partial f}{\\partial x_1}(x), \\dots, \\dfrac{\\partial f}{\\partial x_n}(x)\\right) $$"
      ],
      "metadata": {
        "id": "K6uwE7xJPhjv"
      }
    },
    {
      "cell_type": "markdown",
      "source": [
        "### Ejercicio\n",
        "\n",
        "1. Implementar la función que, dados $f$ y $x$, aproxime $\\nabla f (x)$"
      ],
      "metadata": {
        "id": "RQCWgI96VFrK"
      }
    },
    {
      "cell_type": "code",
      "source": [
        "def gradiente(func,x):\n",
        "  \"\"\"\n",
        "  Aproxima el gradiente de la función en x.\n",
        "  func: función a la que se le desea calcular el gradiente (function)\n",
        "  x: punto en el cual se desea calcular el gradiente (array de numpy)\n",
        "  \"\"\"\n",
        "  grad = np.empty(x.shape[0]) # np.zeros(x.shape[0])\n",
        "  for i in range(x.shape[0]):\n",
        "    grad[i] = derivada_parcial(func, x, i)\n",
        "  return grad"
      ],
      "metadata": {
        "id": "yQ-M2DWlPgnl"
      },
      "execution_count": null,
      "outputs": []
    },
    {
      "cell_type": "markdown",
      "source": [
        "2. Utilizar la función del ítem anterior para aproximar $\\nabla f(2,1)$ para $f(x)=3x_1x_2+x_2^3$"
      ],
      "metadata": {
        "id": "uT4KMrh4V4PO"
      }
    },
    {
      "cell_type": "code",
      "source": [
        "f = lambda x: 3*x[0]*x[1] + x[1]**3\n",
        "gradiente(f, np.array([2,1]))"
      ],
      "metadata": {
        "id": "OMCOKX6kWOY6",
        "colab": {
          "base_uri": "https://localhost:8080/"
        },
        "outputId": "89ea3b3e-0a5f-4aaa-8682-2700b99f6892"
      },
      "execution_count": null,
      "outputs": [
        {
          "output_type": "execute_result",
          "data": {
            "text/plain": [
              "array([3., 9.])"
            ]
          },
          "metadata": {},
          "execution_count": 79
        }
      ]
    },
    {
      "cell_type": "markdown",
      "metadata": {
        "pycharm": {},
        "id": "4pADDtpW3gJj"
      },
      "source": [
        "## Hessiano\n",
        "\n",
        "El próximo paso, aproximar el valor del Hessiano en cierto $x$, también es relativamente sencillo, si tenemos en cuenta que:\n",
        "$$Hf(x)={\\begin{pmatrix}{\\frac  {\\partial ^{2}f}{\\partial x_{1}^{2}}}&{\\frac  {\\partial ^{2}f}{\\partial x_{1}\\partial x_{2}}}&\\cdots &{\\frac  {\\partial ^{2}f}{\\partial x_{1}\\partial x_{n}}}\\\\{\\frac  {\\partial ^{2}f}{\\partial x_{2}\\partial x_{1}}}&{\\frac  {\\partial ^{2}f}{\\partial x_{2}^{2}}}&\\cdots &{\\frac  {\\partial ^{2}f}{\\partial x_{2}\\partial x_{n}}}\\\\\\vdots &\\vdots &\\ddots &\\vdots \\\\{\\frac  {\\partial ^{2}f}{\\partial x_{n}\\partial x_{1}}}&{\\frac  {\\partial ^{2}f}{\\partial x_{n}\\partial x_{2}}}&\\cdots &{\\frac  {\\partial ^{2}f}{\\partial x_{n}^{2}}}\\end{pmatrix}} = {\\begin{pmatrix}{\\nabla \\frac{\\partial f}{\\partial x_1}}\\\\{\\vdots}\\\\{{\\nabla \\frac{\\partial f}{\\partial x_n}}}\\end{pmatrix}}$$"
      ]
    },
    {
      "cell_type": "markdown",
      "source": [
        "## Ejercicio"
      ],
      "metadata": {
        "id": "nDydirckZxFZ"
      }
    },
    {
      "cell_type": "markdown",
      "source": [
        "1. Implementar una función que aproxime el Hessiano."
      ],
      "metadata": {
        "id": "YeJe4Vb9Z2FN"
      }
    },
    {
      "cell_type": "code",
      "source": [
        "def hessiano(func, x):\n",
        "  \"\"\"\n",
        "  Aproxima el hessiano de la función en x.\n",
        "  func: función a la que se le desea calcular el hessiano (function)\n",
        "  x: punto en el cual se desea calcular el hessiano (array de numpy)\n",
        "  \"\"\"\n",
        "  hess = np.zeros((x.shape[0], x.shape[0]))\n",
        "  for i in range(x.shape[0]):\n",
        "    derivada_iesima = lambda x: derivada_parcial(func, x, i)\n",
        "    hess[i,:] = gradiente(derivada_iesima, x)\n",
        "  return hess"
      ],
      "metadata": {
        "id": "D-aBsBO3Z0RQ"
      },
      "execution_count": null,
      "outputs": []
    },
    {
      "cell_type": "markdown",
      "source": [
        "2. Utilizar el ítem anterior para aproximar $Hf(2,1)$, con $f(x)=3x_1x_2+x_2^3$.\n",
        "\n",
        "La respuesta debería dar:\n",
        "$$\\begin{pmatrix}\n",
        "0 & 3 \\\\ 3 & 6 \\end{pmatrix}$$"
      ],
      "metadata": {
        "id": "M6CT5JRdbuzF"
      }
    },
    {
      "cell_type": "code",
      "source": [
        "f = lambda x: 3*x[0]*x[1] + x[1]**3\n",
        "hessiano(f, np.array([2,1]))"
      ],
      "metadata": {
        "id": "GiYBtsl1dK6m",
        "colab": {
          "base_uri": "https://localhost:8080/"
        },
        "outputId": "2d592f6f-e9d9-43eb-ab0e-d0223ae761c2"
      },
      "execution_count": null,
      "outputs": [
        {
          "output_type": "execute_result",
          "data": {
            "text/plain": [
              "array([[0., 3.],\n",
              "       [3., 6.]])"
            ]
          },
          "metadata": {},
          "execution_count": 82
        }
      ]
    },
    {
      "cell_type": "markdown",
      "metadata": {
        "pycharm": {},
        "id": "fZOme6-73gJj"
      },
      "source": [
        "# Algoritmo de Newton generalizado"
      ]
    },
    {
      "cell_type": "markdown",
      "metadata": {
        "id": "VUCE94q03gJj"
      },
      "source": [
        "Sea $f:\\mathbb{R}\\rightarrow\\mathbb{R}$ derivable, el algoritmo de Newton para hallar raíces de $f$ comienza en un $x_0$ inicial e itera:\n",
        "$$x_{n+1} = x_n - \\frac{f(x_n)}{f'(x_n)}$$\n",
        "\n",
        "Si el método converge, lo hace a una raíz. En otras palabras, si $x_n\\rightarrow r$, entonces $r$ es raíz de $f$.\n",
        "\n",
        "**Obs:** para que el método funcione bien, hay que elegir un $x_0$ apropiado y $f'(r)\\neq 0$."
      ]
    },
    {
      "cell_type": "markdown",
      "metadata": {
        "id": "eUqWoYxZ3gJj"
      },
      "source": [
        "**Aplicación a optimización**\n",
        "\n",
        "Para encontrar puntos candidatos a mínimos/máximos de $f$, basta encontrar raíces de $f'$. Si $f\\in C^2$, podemos usar Newton:\n",
        "\n",
        "$$x_{n+1} = x_n - \\frac{f'(x_n)}{f''(x_n)}$$\n"
      ]
    },
    {
      "cell_type": "markdown",
      "metadata": {
        "pycharm": {},
        "id": "pweaC4e-3gJk"
      },
      "source": [
        "**Newton generalizado**\n",
        "\n",
        "Sean $f:\\mathbb{R}^n\\rightarrow\\mathbb{R}$, $f\\in C^3$, $x_0\\in\\mathbb{R}^n$ por Polinomio de Taylor centrado en $x_0$ se obtiene la siguiente aproximación:\n",
        "\n",
        "$$f(x) \\approx f(x_0)+\\nabla f(x_0)(x-x_0)+\\frac{1}{2}(x-x_0)^tHf(x_0)(x-x_0) = P_{x_0}(x)$$\n",
        "\n",
        "Nos gustaría encontrar $x$ tal que minimice a $P_{x_0}$, entonces buscamos un $x$ que cumpla con las condiciones necesarias de primer orden:\n",
        "\n",
        "$$0 = \\nabla P_{x_0}(x) = \\nabla f(x_0) + Hf(x_0)(x-x_0) \\Leftrightarrow \\color{red}{Hf(x_0)(x-x_0) = -\\nabla f(x_0)}$$\n",
        "\n",
        "Basta resolver $Hf(x_0)d = -\\nabla f(x_0)$ y resulta entonces que $x = x_0+d$.\n",
        "\n",
        "El algoritmo de Newton generalizado consiste en iterar la idea anterior, de ser posible, hasta alcanzar un mínimo:\n",
        "$$x_{n+1} = x_n + d_n$$\n",
        "donde $d_n$ es la solución de:\n",
        "$$Hf(x_n)d_n = -\\nabla f(x_n)$$"
      ]
    },
    {
      "cell_type": "markdown",
      "metadata": {
        "pycharm": {},
        "id": "94kfsIGw3gJk"
      },
      "source": [
        "**Criterios de parada**\n",
        "\n",
        "Como todo algoritmo iterativo, debemos establecer uno o varios criterios de parada. Por ejemplo:\n",
        "* $\\lVert x_{n+1}-x_n \\rVert < \\epsilon $ (sucesión de Cauchy)\n",
        "\n",
        "* $\\lVert \\nabla f(x_n) \\rVert < \\epsilon $ (el gradiente está convergiendo a $0$)\n",
        "\n",
        "* $iter > M $ (Límite al número de iteraciones)"
      ]
    },
    {
      "cell_type": "markdown",
      "metadata": {
        "id": "bhsomynx3gJk"
      },
      "source": [
        "**Ventajas del método**\n",
        "- funciona MUY bien para funciones (estrictamente) convexas\n",
        "\n",
        "**Desventajas del método**\n",
        "- puede converger a un punto silla\n",
        "- en general, la convergencia depende de la elección de $x_0$ lo cual no es trivial\n",
        "- $Hf(x_n)$ podría estar muy mal condicionada"
      ]
    },
    {
      "cell_type": "markdown",
      "source": [
        "### Ejercicio"
      ],
      "metadata": {
        "id": "9Lv58C4wgGA8"
      }
    },
    {
      "cell_type": "markdown",
      "source": [
        "1. Implementar el Método de Newton generalizado para hallar candidatos a óptimos de funciones en varias variables. Como criterio de parada, utilizaremos un límite de iteraciones y una tolerancia para $\\lVert \\nabla f(x) \\rVert$.\n",
        "\n",
        "**Sugerencia:** `np.linalg.solve(A,b)` devuelve la solución de $Ax=b$."
      ],
      "metadata": {
        "id": "m56WvunigJTn"
      }
    },
    {
      "cell_type": "code",
      "source": [
        "def newton_generalizado(func, x_0, max_iter=1000, tol=0.001):\n",
        "  \"\"\"\n",
        "  Aplica el Método de Newton generalizado.\n",
        "  func: función a la cual se le quieren buscar candidatos a máximos o mínimos (function)\n",
        "  x_0: punto inicial (un array de numpy)\n",
        "  max_iter: cantidad máxima de iteraciones (int)\n",
        "  tol: tolerancia para la norma del gradiente (float)\n",
        "  \"\"\"\n",
        "  grad = gradiente(func, x_0)\n",
        "  it = 0\n",
        "  x = x_0\n",
        "  while np.linalg.norm(grad) >= tol and it < max_iter:\n",
        "    # COMPLETAR\n",
        "  return x"
      ],
      "metadata": {
        "id": "RpB9MqQKgm3D"
      },
      "execution_count": null,
      "outputs": []
    },
    {
      "cell_type": "markdown",
      "source": [
        "2. Se desea conocer las medidas de largo ($x$), profundidad ($y$) y altura ($z$) para fabricar una pecera con forma de prisma rectangular, un volumen de $100\\; m^3$ y superficie mínima. Utilizar el Método de Newton generalizado para hallar las medidas óptimas de la pecera."
      ],
      "metadata": {
        "id": "GbmSlVkqhGId"
      }
    },
    {
      "cell_type": "code",
      "source": [],
      "metadata": {
        "id": "x8i-YpaDB2of"
      },
      "execution_count": null,
      "outputs": []
    },
    {
      "cell_type": "markdown",
      "source": [
        "## Extra: graficando $f$\n",
        "\n",
        "Grafiquemos la función del ejercicio"
      ],
      "metadata": {
        "id": "_fsKUTYF9K10"
      }
    },
    {
      "cell_type": "code",
      "source": [
        "%matplotlib notebook\n",
        "import plotly.graph_objects as go"
      ],
      "metadata": {
        "id": "wWZi_WwdAr4o"
      },
      "execution_count": null,
      "outputs": []
    },
    {
      "cell_type": "code",
      "source": [
        "# Definimos la funcion a graficar\n",
        "def sup(x,y):\n",
        "  return x*y+200/x+200/y\n",
        "\n",
        "# Graficaremos en el intervalo [2,10]x[2,10]\n",
        "x = np.linspace(2, 10, 30)\n",
        "y = np.linspace(2, 10, 30)\n",
        "\n",
        "# Creamos una grilla para graficar en 3D y evaluamos la función en cada punto de la grilla\n",
        "X, Y = np.meshgrid(x, y)\n",
        "Z = sup(X, Y)\n",
        "\n",
        "# Generamos el gráfico 3D\n",
        "fig = go.Figure(data=[go.Surface(z=Z, x=X, y=Y)])\n",
        "fig.update_layout(title='Superficie de la pecera según largo y profundidad',\n",
        "                  autosize=False, width=800, height=800,)\n"
      ],
      "metadata": {
        "id": "zGUDC9JE-x9F",
        "colab": {
          "base_uri": "https://localhost:8080/",
          "height": 817
        },
        "outputId": "55fef50f-9f13-448b-f3bc-b8df8d2e5885"
      },
      "execution_count": null,
      "outputs": [
        {
          "output_type": "display_data",
          "data": {
            "text/html": [
              "<html>\n",
              "<head><meta charset=\"utf-8\" /></head>\n",
              "<body>\n",
              "    <div>            <script src=\"https://cdnjs.cloudflare.com/ajax/libs/mathjax/2.7.5/MathJax.js?config=TeX-AMS-MML_SVG\"></script><script type=\"text/javascript\">if (window.MathJax && window.MathJax.Hub && window.MathJax.Hub.Config) {window.MathJax.Hub.Config({SVG: {font: \"STIX-Web\"}});}</script>                <script type=\"text/javascript\">window.PlotlyConfig = {MathJaxConfig: 'local'};</script>\n",
              "        <script charset=\"utf-8\" src=\"https://cdn.plot.ly/plotly-2.35.2.min.js\"></script>                <div id=\"82e703bb-c5fb-44ce-866c-39dc21eba069\" class=\"plotly-graph-div\" style=\"height:800px; width:800px;\"></div>            <script type=\"text/javascript\">                                    window.PLOTLYENV=window.PLOTLYENV || {};                                    if (document.getElementById(\"82e703bb-c5fb-44ce-866c-39dc21eba069\")) {                    Plotly.newPlot(                        \"82e703bb-c5fb-44ce-866c-39dc21eba069\",                        [{\"x\":[[2.0,2.2758620689655173,2.5517241379310347,2.8275862068965516,3.103448275862069,3.3793103448275863,3.655172413793103,3.9310344827586206,4.206896551724138,4.482758620689655,4.758620689655173,5.0344827586206895,5.310344827586206,5.586206896551724,5.862068965517241,6.137931034482759,6.413793103448276,6.689655172413793,6.9655172413793105,7.241379310344827,7.517241379310345,7.793103448275862,8.068965517241379,8.344827586206897,8.620689655172413,8.89655172413793,9.172413793103448,9.448275862068964,9.724137931034482,10.0],[2.0,2.2758620689655173,2.5517241379310347,2.8275862068965516,3.103448275862069,3.3793103448275863,3.655172413793103,3.9310344827586206,4.206896551724138,4.482758620689655,4.758620689655173,5.0344827586206895,5.310344827586206,5.586206896551724,5.862068965517241,6.137931034482759,6.413793103448276,6.689655172413793,6.9655172413793105,7.241379310344827,7.517241379310345,7.793103448275862,8.068965517241379,8.344827586206897,8.620689655172413,8.89655172413793,9.172413793103448,9.448275862068964,9.724137931034482,10.0],[2.0,2.2758620689655173,2.5517241379310347,2.8275862068965516,3.103448275862069,3.3793103448275863,3.655172413793103,3.9310344827586206,4.206896551724138,4.482758620689655,4.758620689655173,5.0344827586206895,5.310344827586206,5.586206896551724,5.862068965517241,6.137931034482759,6.413793103448276,6.689655172413793,6.9655172413793105,7.241379310344827,7.517241379310345,7.793103448275862,8.068965517241379,8.344827586206897,8.620689655172413,8.89655172413793,9.172413793103448,9.448275862068964,9.724137931034482,10.0],[2.0,2.2758620689655173,2.5517241379310347,2.8275862068965516,3.103448275862069,3.3793103448275863,3.655172413793103,3.9310344827586206,4.206896551724138,4.482758620689655,4.758620689655173,5.0344827586206895,5.310344827586206,5.586206896551724,5.862068965517241,6.137931034482759,6.413793103448276,6.689655172413793,6.9655172413793105,7.241379310344827,7.517241379310345,7.793103448275862,8.068965517241379,8.344827586206897,8.620689655172413,8.89655172413793,9.172413793103448,9.448275862068964,9.724137931034482,10.0],[2.0,2.2758620689655173,2.5517241379310347,2.8275862068965516,3.103448275862069,3.3793103448275863,3.655172413793103,3.9310344827586206,4.206896551724138,4.482758620689655,4.758620689655173,5.0344827586206895,5.310344827586206,5.586206896551724,5.862068965517241,6.137931034482759,6.413793103448276,6.689655172413793,6.9655172413793105,7.241379310344827,7.517241379310345,7.793103448275862,8.068965517241379,8.344827586206897,8.620689655172413,8.89655172413793,9.172413793103448,9.448275862068964,9.724137931034482,10.0],[2.0,2.2758620689655173,2.5517241379310347,2.8275862068965516,3.103448275862069,3.3793103448275863,3.655172413793103,3.9310344827586206,4.206896551724138,4.482758620689655,4.758620689655173,5.0344827586206895,5.310344827586206,5.586206896551724,5.862068965517241,6.137931034482759,6.413793103448276,6.689655172413793,6.9655172413793105,7.241379310344827,7.517241379310345,7.793103448275862,8.068965517241379,8.344827586206897,8.620689655172413,8.89655172413793,9.172413793103448,9.448275862068964,9.724137931034482,10.0],[2.0,2.2758620689655173,2.5517241379310347,2.8275862068965516,3.103448275862069,3.3793103448275863,3.655172413793103,3.9310344827586206,4.206896551724138,4.482758620689655,4.758620689655173,5.0344827586206895,5.310344827586206,5.586206896551724,5.862068965517241,6.137931034482759,6.413793103448276,6.689655172413793,6.9655172413793105,7.241379310344827,7.517241379310345,7.793103448275862,8.068965517241379,8.344827586206897,8.620689655172413,8.89655172413793,9.172413793103448,9.448275862068964,9.724137931034482,10.0],[2.0,2.2758620689655173,2.5517241379310347,2.8275862068965516,3.103448275862069,3.3793103448275863,3.655172413793103,3.9310344827586206,4.206896551724138,4.482758620689655,4.758620689655173,5.0344827586206895,5.310344827586206,5.586206896551724,5.862068965517241,6.137931034482759,6.413793103448276,6.689655172413793,6.9655172413793105,7.241379310344827,7.517241379310345,7.793103448275862,8.068965517241379,8.344827586206897,8.620689655172413,8.89655172413793,9.172413793103448,9.448275862068964,9.724137931034482,10.0],[2.0,2.2758620689655173,2.5517241379310347,2.8275862068965516,3.103448275862069,3.3793103448275863,3.655172413793103,3.9310344827586206,4.206896551724138,4.482758620689655,4.758620689655173,5.0344827586206895,5.310344827586206,5.586206896551724,5.862068965517241,6.137931034482759,6.413793103448276,6.689655172413793,6.9655172413793105,7.241379310344827,7.517241379310345,7.793103448275862,8.068965517241379,8.344827586206897,8.620689655172413,8.89655172413793,9.172413793103448,9.448275862068964,9.724137931034482,10.0],[2.0,2.2758620689655173,2.5517241379310347,2.8275862068965516,3.103448275862069,3.3793103448275863,3.655172413793103,3.9310344827586206,4.206896551724138,4.482758620689655,4.758620689655173,5.0344827586206895,5.310344827586206,5.586206896551724,5.862068965517241,6.137931034482759,6.413793103448276,6.689655172413793,6.9655172413793105,7.241379310344827,7.517241379310345,7.793103448275862,8.068965517241379,8.344827586206897,8.620689655172413,8.89655172413793,9.172413793103448,9.448275862068964,9.724137931034482,10.0],[2.0,2.2758620689655173,2.5517241379310347,2.8275862068965516,3.103448275862069,3.3793103448275863,3.655172413793103,3.9310344827586206,4.206896551724138,4.482758620689655,4.758620689655173,5.0344827586206895,5.310344827586206,5.586206896551724,5.862068965517241,6.137931034482759,6.413793103448276,6.689655172413793,6.9655172413793105,7.241379310344827,7.517241379310345,7.793103448275862,8.068965517241379,8.344827586206897,8.620689655172413,8.89655172413793,9.172413793103448,9.448275862068964,9.724137931034482,10.0],[2.0,2.2758620689655173,2.5517241379310347,2.8275862068965516,3.103448275862069,3.3793103448275863,3.655172413793103,3.9310344827586206,4.206896551724138,4.482758620689655,4.758620689655173,5.0344827586206895,5.310344827586206,5.586206896551724,5.862068965517241,6.137931034482759,6.413793103448276,6.689655172413793,6.9655172413793105,7.241379310344827,7.517241379310345,7.793103448275862,8.068965517241379,8.344827586206897,8.620689655172413,8.89655172413793,9.172413793103448,9.448275862068964,9.724137931034482,10.0],[2.0,2.2758620689655173,2.5517241379310347,2.8275862068965516,3.103448275862069,3.3793103448275863,3.655172413793103,3.9310344827586206,4.206896551724138,4.482758620689655,4.758620689655173,5.0344827586206895,5.310344827586206,5.586206896551724,5.862068965517241,6.137931034482759,6.413793103448276,6.689655172413793,6.9655172413793105,7.241379310344827,7.517241379310345,7.793103448275862,8.068965517241379,8.344827586206897,8.620689655172413,8.89655172413793,9.172413793103448,9.448275862068964,9.724137931034482,10.0],[2.0,2.2758620689655173,2.5517241379310347,2.8275862068965516,3.103448275862069,3.3793103448275863,3.655172413793103,3.9310344827586206,4.206896551724138,4.482758620689655,4.758620689655173,5.0344827586206895,5.310344827586206,5.586206896551724,5.862068965517241,6.137931034482759,6.413793103448276,6.689655172413793,6.9655172413793105,7.241379310344827,7.517241379310345,7.793103448275862,8.068965517241379,8.344827586206897,8.620689655172413,8.89655172413793,9.172413793103448,9.448275862068964,9.724137931034482,10.0],[2.0,2.2758620689655173,2.5517241379310347,2.8275862068965516,3.103448275862069,3.3793103448275863,3.655172413793103,3.9310344827586206,4.206896551724138,4.482758620689655,4.758620689655173,5.0344827586206895,5.310344827586206,5.586206896551724,5.862068965517241,6.137931034482759,6.413793103448276,6.689655172413793,6.9655172413793105,7.241379310344827,7.517241379310345,7.793103448275862,8.068965517241379,8.344827586206897,8.620689655172413,8.89655172413793,9.172413793103448,9.448275862068964,9.724137931034482,10.0],[2.0,2.2758620689655173,2.5517241379310347,2.8275862068965516,3.103448275862069,3.3793103448275863,3.655172413793103,3.9310344827586206,4.206896551724138,4.482758620689655,4.758620689655173,5.0344827586206895,5.310344827586206,5.586206896551724,5.862068965517241,6.137931034482759,6.413793103448276,6.689655172413793,6.9655172413793105,7.241379310344827,7.517241379310345,7.793103448275862,8.068965517241379,8.344827586206897,8.620689655172413,8.89655172413793,9.172413793103448,9.448275862068964,9.724137931034482,10.0],[2.0,2.2758620689655173,2.5517241379310347,2.8275862068965516,3.103448275862069,3.3793103448275863,3.655172413793103,3.9310344827586206,4.206896551724138,4.482758620689655,4.758620689655173,5.0344827586206895,5.310344827586206,5.586206896551724,5.862068965517241,6.137931034482759,6.413793103448276,6.689655172413793,6.9655172413793105,7.241379310344827,7.517241379310345,7.793103448275862,8.068965517241379,8.344827586206897,8.620689655172413,8.89655172413793,9.172413793103448,9.448275862068964,9.724137931034482,10.0],[2.0,2.2758620689655173,2.5517241379310347,2.8275862068965516,3.103448275862069,3.3793103448275863,3.655172413793103,3.9310344827586206,4.206896551724138,4.482758620689655,4.758620689655173,5.0344827586206895,5.310344827586206,5.586206896551724,5.862068965517241,6.137931034482759,6.413793103448276,6.689655172413793,6.9655172413793105,7.241379310344827,7.517241379310345,7.793103448275862,8.068965517241379,8.344827586206897,8.620689655172413,8.89655172413793,9.172413793103448,9.448275862068964,9.724137931034482,10.0],[2.0,2.2758620689655173,2.5517241379310347,2.8275862068965516,3.103448275862069,3.3793103448275863,3.655172413793103,3.9310344827586206,4.206896551724138,4.482758620689655,4.758620689655173,5.0344827586206895,5.310344827586206,5.586206896551724,5.862068965517241,6.137931034482759,6.413793103448276,6.689655172413793,6.9655172413793105,7.241379310344827,7.517241379310345,7.793103448275862,8.068965517241379,8.344827586206897,8.620689655172413,8.89655172413793,9.172413793103448,9.448275862068964,9.724137931034482,10.0],[2.0,2.2758620689655173,2.5517241379310347,2.8275862068965516,3.103448275862069,3.3793103448275863,3.655172413793103,3.9310344827586206,4.206896551724138,4.482758620689655,4.758620689655173,5.0344827586206895,5.310344827586206,5.586206896551724,5.862068965517241,6.137931034482759,6.413793103448276,6.689655172413793,6.9655172413793105,7.241379310344827,7.517241379310345,7.793103448275862,8.068965517241379,8.344827586206897,8.620689655172413,8.89655172413793,9.172413793103448,9.448275862068964,9.724137931034482,10.0],[2.0,2.2758620689655173,2.5517241379310347,2.8275862068965516,3.103448275862069,3.3793103448275863,3.655172413793103,3.9310344827586206,4.206896551724138,4.482758620689655,4.758620689655173,5.0344827586206895,5.310344827586206,5.586206896551724,5.862068965517241,6.137931034482759,6.413793103448276,6.689655172413793,6.9655172413793105,7.241379310344827,7.517241379310345,7.793103448275862,8.068965517241379,8.344827586206897,8.620689655172413,8.89655172413793,9.172413793103448,9.448275862068964,9.724137931034482,10.0],[2.0,2.2758620689655173,2.5517241379310347,2.8275862068965516,3.103448275862069,3.3793103448275863,3.655172413793103,3.9310344827586206,4.206896551724138,4.482758620689655,4.758620689655173,5.0344827586206895,5.310344827586206,5.586206896551724,5.862068965517241,6.137931034482759,6.413793103448276,6.689655172413793,6.9655172413793105,7.241379310344827,7.517241379310345,7.793103448275862,8.068965517241379,8.344827586206897,8.620689655172413,8.89655172413793,9.172413793103448,9.448275862068964,9.724137931034482,10.0],[2.0,2.2758620689655173,2.5517241379310347,2.8275862068965516,3.103448275862069,3.3793103448275863,3.655172413793103,3.9310344827586206,4.206896551724138,4.482758620689655,4.758620689655173,5.0344827586206895,5.310344827586206,5.586206896551724,5.862068965517241,6.137931034482759,6.413793103448276,6.689655172413793,6.9655172413793105,7.241379310344827,7.517241379310345,7.793103448275862,8.068965517241379,8.344827586206897,8.620689655172413,8.89655172413793,9.172413793103448,9.448275862068964,9.724137931034482,10.0],[2.0,2.2758620689655173,2.5517241379310347,2.8275862068965516,3.103448275862069,3.3793103448275863,3.655172413793103,3.9310344827586206,4.206896551724138,4.482758620689655,4.758620689655173,5.0344827586206895,5.310344827586206,5.586206896551724,5.862068965517241,6.137931034482759,6.413793103448276,6.689655172413793,6.9655172413793105,7.241379310344827,7.517241379310345,7.793103448275862,8.068965517241379,8.344827586206897,8.620689655172413,8.89655172413793,9.172413793103448,9.448275862068964,9.724137931034482,10.0],[2.0,2.2758620689655173,2.5517241379310347,2.8275862068965516,3.103448275862069,3.3793103448275863,3.655172413793103,3.9310344827586206,4.206896551724138,4.482758620689655,4.758620689655173,5.0344827586206895,5.310344827586206,5.586206896551724,5.862068965517241,6.137931034482759,6.413793103448276,6.689655172413793,6.9655172413793105,7.241379310344827,7.517241379310345,7.793103448275862,8.068965517241379,8.344827586206897,8.620689655172413,8.89655172413793,9.172413793103448,9.448275862068964,9.724137931034482,10.0],[2.0,2.2758620689655173,2.5517241379310347,2.8275862068965516,3.103448275862069,3.3793103448275863,3.655172413793103,3.9310344827586206,4.206896551724138,4.482758620689655,4.758620689655173,5.0344827586206895,5.310344827586206,5.586206896551724,5.862068965517241,6.137931034482759,6.413793103448276,6.689655172413793,6.9655172413793105,7.241379310344827,7.517241379310345,7.793103448275862,8.068965517241379,8.344827586206897,8.620689655172413,8.89655172413793,9.172413793103448,9.448275862068964,9.724137931034482,10.0],[2.0,2.2758620689655173,2.5517241379310347,2.8275862068965516,3.103448275862069,3.3793103448275863,3.655172413793103,3.9310344827586206,4.206896551724138,4.482758620689655,4.758620689655173,5.0344827586206895,5.310344827586206,5.586206896551724,5.862068965517241,6.137931034482759,6.413793103448276,6.689655172413793,6.9655172413793105,7.241379310344827,7.517241379310345,7.793103448275862,8.068965517241379,8.344827586206897,8.620689655172413,8.89655172413793,9.172413793103448,9.448275862068964,9.724137931034482,10.0],[2.0,2.2758620689655173,2.5517241379310347,2.8275862068965516,3.103448275862069,3.3793103448275863,3.655172413793103,3.9310344827586206,4.206896551724138,4.482758620689655,4.758620689655173,5.0344827586206895,5.310344827586206,5.586206896551724,5.862068965517241,6.137931034482759,6.413793103448276,6.689655172413793,6.9655172413793105,7.241379310344827,7.517241379310345,7.793103448275862,8.068965517241379,8.344827586206897,8.620689655172413,8.89655172413793,9.172413793103448,9.448275862068964,9.724137931034482,10.0],[2.0,2.2758620689655173,2.5517241379310347,2.8275862068965516,3.103448275862069,3.3793103448275863,3.655172413793103,3.9310344827586206,4.206896551724138,4.482758620689655,4.758620689655173,5.0344827586206895,5.310344827586206,5.586206896551724,5.862068965517241,6.137931034482759,6.413793103448276,6.689655172413793,6.9655172413793105,7.241379310344827,7.517241379310345,7.793103448275862,8.068965517241379,8.344827586206897,8.620689655172413,8.89655172413793,9.172413793103448,9.448275862068964,9.724137931034482,10.0],[2.0,2.2758620689655173,2.5517241379310347,2.8275862068965516,3.103448275862069,3.3793103448275863,3.655172413793103,3.9310344827586206,4.206896551724138,4.482758620689655,4.758620689655173,5.0344827586206895,5.310344827586206,5.586206896551724,5.862068965517241,6.137931034482759,6.413793103448276,6.689655172413793,6.9655172413793105,7.241379310344827,7.517241379310345,7.793103448275862,8.068965517241379,8.344827586206897,8.620689655172413,8.89655172413793,9.172413793103448,9.448275862068964,9.724137931034482,10.0]],\"y\":[[2.0,2.0,2.0,2.0,2.0,2.0,2.0,2.0,2.0,2.0,2.0,2.0,2.0,2.0,2.0,2.0,2.0,2.0,2.0,2.0,2.0,2.0,2.0,2.0,2.0,2.0,2.0,2.0,2.0,2.0],[2.2758620689655173,2.2758620689655173,2.2758620689655173,2.2758620689655173,2.2758620689655173,2.2758620689655173,2.2758620689655173,2.2758620689655173,2.2758620689655173,2.2758620689655173,2.2758620689655173,2.2758620689655173,2.2758620689655173,2.2758620689655173,2.2758620689655173,2.2758620689655173,2.2758620689655173,2.2758620689655173,2.2758620689655173,2.2758620689655173,2.2758620689655173,2.2758620689655173,2.2758620689655173,2.2758620689655173,2.2758620689655173,2.2758620689655173,2.2758620689655173,2.2758620689655173,2.2758620689655173,2.2758620689655173],[2.5517241379310347,2.5517241379310347,2.5517241379310347,2.5517241379310347,2.5517241379310347,2.5517241379310347,2.5517241379310347,2.5517241379310347,2.5517241379310347,2.5517241379310347,2.5517241379310347,2.5517241379310347,2.5517241379310347,2.5517241379310347,2.5517241379310347,2.5517241379310347,2.5517241379310347,2.5517241379310347,2.5517241379310347,2.5517241379310347,2.5517241379310347,2.5517241379310347,2.5517241379310347,2.5517241379310347,2.5517241379310347,2.5517241379310347,2.5517241379310347,2.5517241379310347,2.5517241379310347,2.5517241379310347],[2.8275862068965516,2.8275862068965516,2.8275862068965516,2.8275862068965516,2.8275862068965516,2.8275862068965516,2.8275862068965516,2.8275862068965516,2.8275862068965516,2.8275862068965516,2.8275862068965516,2.8275862068965516,2.8275862068965516,2.8275862068965516,2.8275862068965516,2.8275862068965516,2.8275862068965516,2.8275862068965516,2.8275862068965516,2.8275862068965516,2.8275862068965516,2.8275862068965516,2.8275862068965516,2.8275862068965516,2.8275862068965516,2.8275862068965516,2.8275862068965516,2.8275862068965516,2.8275862068965516,2.8275862068965516],[3.103448275862069,3.103448275862069,3.103448275862069,3.103448275862069,3.103448275862069,3.103448275862069,3.103448275862069,3.103448275862069,3.103448275862069,3.103448275862069,3.103448275862069,3.103448275862069,3.103448275862069,3.103448275862069,3.103448275862069,3.103448275862069,3.103448275862069,3.103448275862069,3.103448275862069,3.103448275862069,3.103448275862069,3.103448275862069,3.103448275862069,3.103448275862069,3.103448275862069,3.103448275862069,3.103448275862069,3.103448275862069,3.103448275862069,3.103448275862069],[3.3793103448275863,3.3793103448275863,3.3793103448275863,3.3793103448275863,3.3793103448275863,3.3793103448275863,3.3793103448275863,3.3793103448275863,3.3793103448275863,3.3793103448275863,3.3793103448275863,3.3793103448275863,3.3793103448275863,3.3793103448275863,3.3793103448275863,3.3793103448275863,3.3793103448275863,3.3793103448275863,3.3793103448275863,3.3793103448275863,3.3793103448275863,3.3793103448275863,3.3793103448275863,3.3793103448275863,3.3793103448275863,3.3793103448275863,3.3793103448275863,3.3793103448275863,3.3793103448275863,3.3793103448275863],[3.655172413793103,3.655172413793103,3.655172413793103,3.655172413793103,3.655172413793103,3.655172413793103,3.655172413793103,3.655172413793103,3.655172413793103,3.655172413793103,3.655172413793103,3.655172413793103,3.655172413793103,3.655172413793103,3.655172413793103,3.655172413793103,3.655172413793103,3.655172413793103,3.655172413793103,3.655172413793103,3.655172413793103,3.655172413793103,3.655172413793103,3.655172413793103,3.655172413793103,3.655172413793103,3.655172413793103,3.655172413793103,3.655172413793103,3.655172413793103],[3.9310344827586206,3.9310344827586206,3.9310344827586206,3.9310344827586206,3.9310344827586206,3.9310344827586206,3.9310344827586206,3.9310344827586206,3.9310344827586206,3.9310344827586206,3.9310344827586206,3.9310344827586206,3.9310344827586206,3.9310344827586206,3.9310344827586206,3.9310344827586206,3.9310344827586206,3.9310344827586206,3.9310344827586206,3.9310344827586206,3.9310344827586206,3.9310344827586206,3.9310344827586206,3.9310344827586206,3.9310344827586206,3.9310344827586206,3.9310344827586206,3.9310344827586206,3.9310344827586206,3.9310344827586206],[4.206896551724138,4.206896551724138,4.206896551724138,4.206896551724138,4.206896551724138,4.206896551724138,4.206896551724138,4.206896551724138,4.206896551724138,4.206896551724138,4.206896551724138,4.206896551724138,4.206896551724138,4.206896551724138,4.206896551724138,4.206896551724138,4.206896551724138,4.206896551724138,4.206896551724138,4.206896551724138,4.206896551724138,4.206896551724138,4.206896551724138,4.206896551724138,4.206896551724138,4.206896551724138,4.206896551724138,4.206896551724138,4.206896551724138,4.206896551724138],[4.482758620689655,4.482758620689655,4.482758620689655,4.482758620689655,4.482758620689655,4.482758620689655,4.482758620689655,4.482758620689655,4.482758620689655,4.482758620689655,4.482758620689655,4.482758620689655,4.482758620689655,4.482758620689655,4.482758620689655,4.482758620689655,4.482758620689655,4.482758620689655,4.482758620689655,4.482758620689655,4.482758620689655,4.482758620689655,4.482758620689655,4.482758620689655,4.482758620689655,4.482758620689655,4.482758620689655,4.482758620689655,4.482758620689655,4.482758620689655],[4.758620689655173,4.758620689655173,4.758620689655173,4.758620689655173,4.758620689655173,4.758620689655173,4.758620689655173,4.758620689655173,4.758620689655173,4.758620689655173,4.758620689655173,4.758620689655173,4.758620689655173,4.758620689655173,4.758620689655173,4.758620689655173,4.758620689655173,4.758620689655173,4.758620689655173,4.758620689655173,4.758620689655173,4.758620689655173,4.758620689655173,4.758620689655173,4.758620689655173,4.758620689655173,4.758620689655173,4.758620689655173,4.758620689655173,4.758620689655173],[5.0344827586206895,5.0344827586206895,5.0344827586206895,5.0344827586206895,5.0344827586206895,5.0344827586206895,5.0344827586206895,5.0344827586206895,5.0344827586206895,5.0344827586206895,5.0344827586206895,5.0344827586206895,5.0344827586206895,5.0344827586206895,5.0344827586206895,5.0344827586206895,5.0344827586206895,5.0344827586206895,5.0344827586206895,5.0344827586206895,5.0344827586206895,5.0344827586206895,5.0344827586206895,5.0344827586206895,5.0344827586206895,5.0344827586206895,5.0344827586206895,5.0344827586206895,5.0344827586206895,5.0344827586206895],[5.310344827586206,5.310344827586206,5.310344827586206,5.310344827586206,5.310344827586206,5.310344827586206,5.310344827586206,5.310344827586206,5.310344827586206,5.310344827586206,5.310344827586206,5.310344827586206,5.310344827586206,5.310344827586206,5.310344827586206,5.310344827586206,5.310344827586206,5.310344827586206,5.310344827586206,5.310344827586206,5.310344827586206,5.310344827586206,5.310344827586206,5.310344827586206,5.310344827586206,5.310344827586206,5.310344827586206,5.310344827586206,5.310344827586206,5.310344827586206],[5.586206896551724,5.586206896551724,5.586206896551724,5.586206896551724,5.586206896551724,5.586206896551724,5.586206896551724,5.586206896551724,5.586206896551724,5.586206896551724,5.586206896551724,5.586206896551724,5.586206896551724,5.586206896551724,5.586206896551724,5.586206896551724,5.586206896551724,5.586206896551724,5.586206896551724,5.586206896551724,5.586206896551724,5.586206896551724,5.586206896551724,5.586206896551724,5.586206896551724,5.586206896551724,5.586206896551724,5.586206896551724,5.586206896551724,5.586206896551724],[5.862068965517241,5.862068965517241,5.862068965517241,5.862068965517241,5.862068965517241,5.862068965517241,5.862068965517241,5.862068965517241,5.862068965517241,5.862068965517241,5.862068965517241,5.862068965517241,5.862068965517241,5.862068965517241,5.862068965517241,5.862068965517241,5.862068965517241,5.862068965517241,5.862068965517241,5.862068965517241,5.862068965517241,5.862068965517241,5.862068965517241,5.862068965517241,5.862068965517241,5.862068965517241,5.862068965517241,5.862068965517241,5.862068965517241,5.862068965517241],[6.137931034482759,6.137931034482759,6.137931034482759,6.137931034482759,6.137931034482759,6.137931034482759,6.137931034482759,6.137931034482759,6.137931034482759,6.137931034482759,6.137931034482759,6.137931034482759,6.137931034482759,6.137931034482759,6.137931034482759,6.137931034482759,6.137931034482759,6.137931034482759,6.137931034482759,6.137931034482759,6.137931034482759,6.137931034482759,6.137931034482759,6.137931034482759,6.137931034482759,6.137931034482759,6.137931034482759,6.137931034482759,6.137931034482759,6.137931034482759],[6.413793103448276,6.413793103448276,6.413793103448276,6.413793103448276,6.413793103448276,6.413793103448276,6.413793103448276,6.413793103448276,6.413793103448276,6.413793103448276,6.413793103448276,6.413793103448276,6.413793103448276,6.413793103448276,6.413793103448276,6.413793103448276,6.413793103448276,6.413793103448276,6.413793103448276,6.413793103448276,6.413793103448276,6.413793103448276,6.413793103448276,6.413793103448276,6.413793103448276,6.413793103448276,6.413793103448276,6.413793103448276,6.413793103448276,6.413793103448276],[6.689655172413793,6.689655172413793,6.689655172413793,6.689655172413793,6.689655172413793,6.689655172413793,6.689655172413793,6.689655172413793,6.689655172413793,6.689655172413793,6.689655172413793,6.689655172413793,6.689655172413793,6.689655172413793,6.689655172413793,6.689655172413793,6.689655172413793,6.689655172413793,6.689655172413793,6.689655172413793,6.689655172413793,6.689655172413793,6.689655172413793,6.689655172413793,6.689655172413793,6.689655172413793,6.689655172413793,6.689655172413793,6.689655172413793,6.689655172413793],[6.9655172413793105,6.9655172413793105,6.9655172413793105,6.9655172413793105,6.9655172413793105,6.9655172413793105,6.9655172413793105,6.9655172413793105,6.9655172413793105,6.9655172413793105,6.9655172413793105,6.9655172413793105,6.9655172413793105,6.9655172413793105,6.9655172413793105,6.9655172413793105,6.9655172413793105,6.9655172413793105,6.9655172413793105,6.9655172413793105,6.9655172413793105,6.9655172413793105,6.9655172413793105,6.9655172413793105,6.9655172413793105,6.9655172413793105,6.9655172413793105,6.9655172413793105,6.9655172413793105,6.9655172413793105],[7.241379310344827,7.241379310344827,7.241379310344827,7.241379310344827,7.241379310344827,7.241379310344827,7.241379310344827,7.241379310344827,7.241379310344827,7.241379310344827,7.241379310344827,7.241379310344827,7.241379310344827,7.241379310344827,7.241379310344827,7.241379310344827,7.241379310344827,7.241379310344827,7.241379310344827,7.241379310344827,7.241379310344827,7.241379310344827,7.241379310344827,7.241379310344827,7.241379310344827,7.241379310344827,7.241379310344827,7.241379310344827,7.241379310344827,7.241379310344827],[7.517241379310345,7.517241379310345,7.517241379310345,7.517241379310345,7.517241379310345,7.517241379310345,7.517241379310345,7.517241379310345,7.517241379310345,7.517241379310345,7.517241379310345,7.517241379310345,7.517241379310345,7.517241379310345,7.517241379310345,7.517241379310345,7.517241379310345,7.517241379310345,7.517241379310345,7.517241379310345,7.517241379310345,7.517241379310345,7.517241379310345,7.517241379310345,7.517241379310345,7.517241379310345,7.517241379310345,7.517241379310345,7.517241379310345,7.517241379310345],[7.793103448275862,7.793103448275862,7.793103448275862,7.793103448275862,7.793103448275862,7.793103448275862,7.793103448275862,7.793103448275862,7.793103448275862,7.793103448275862,7.793103448275862,7.793103448275862,7.793103448275862,7.793103448275862,7.793103448275862,7.793103448275862,7.793103448275862,7.793103448275862,7.793103448275862,7.793103448275862,7.793103448275862,7.793103448275862,7.793103448275862,7.793103448275862,7.793103448275862,7.793103448275862,7.793103448275862,7.793103448275862,7.793103448275862,7.793103448275862],[8.068965517241379,8.068965517241379,8.068965517241379,8.068965517241379,8.068965517241379,8.068965517241379,8.068965517241379,8.068965517241379,8.068965517241379,8.068965517241379,8.068965517241379,8.068965517241379,8.068965517241379,8.068965517241379,8.068965517241379,8.068965517241379,8.068965517241379,8.068965517241379,8.068965517241379,8.068965517241379,8.068965517241379,8.068965517241379,8.068965517241379,8.068965517241379,8.068965517241379,8.068965517241379,8.068965517241379,8.068965517241379,8.068965517241379,8.068965517241379],[8.344827586206897,8.344827586206897,8.344827586206897,8.344827586206897,8.344827586206897,8.344827586206897,8.344827586206897,8.344827586206897,8.344827586206897,8.344827586206897,8.344827586206897,8.344827586206897,8.344827586206897,8.344827586206897,8.344827586206897,8.344827586206897,8.344827586206897,8.344827586206897,8.344827586206897,8.344827586206897,8.344827586206897,8.344827586206897,8.344827586206897,8.344827586206897,8.344827586206897,8.344827586206897,8.344827586206897,8.344827586206897,8.344827586206897,8.344827586206897],[8.620689655172413,8.620689655172413,8.620689655172413,8.620689655172413,8.620689655172413,8.620689655172413,8.620689655172413,8.620689655172413,8.620689655172413,8.620689655172413,8.620689655172413,8.620689655172413,8.620689655172413,8.620689655172413,8.620689655172413,8.620689655172413,8.620689655172413,8.620689655172413,8.620689655172413,8.620689655172413,8.620689655172413,8.620689655172413,8.620689655172413,8.620689655172413,8.620689655172413,8.620689655172413,8.620689655172413,8.620689655172413,8.620689655172413,8.620689655172413],[8.89655172413793,8.89655172413793,8.89655172413793,8.89655172413793,8.89655172413793,8.89655172413793,8.89655172413793,8.89655172413793,8.89655172413793,8.89655172413793,8.89655172413793,8.89655172413793,8.89655172413793,8.89655172413793,8.89655172413793,8.89655172413793,8.89655172413793,8.89655172413793,8.89655172413793,8.89655172413793,8.89655172413793,8.89655172413793,8.89655172413793,8.89655172413793,8.89655172413793,8.89655172413793,8.89655172413793,8.89655172413793,8.89655172413793,8.89655172413793],[9.172413793103448,9.172413793103448,9.172413793103448,9.172413793103448,9.172413793103448,9.172413793103448,9.172413793103448,9.172413793103448,9.172413793103448,9.172413793103448,9.172413793103448,9.172413793103448,9.172413793103448,9.172413793103448,9.172413793103448,9.172413793103448,9.172413793103448,9.172413793103448,9.172413793103448,9.172413793103448,9.172413793103448,9.172413793103448,9.172413793103448,9.172413793103448,9.172413793103448,9.172413793103448,9.172413793103448,9.172413793103448,9.172413793103448,9.172413793103448],[9.448275862068964,9.448275862068964,9.448275862068964,9.448275862068964,9.448275862068964,9.448275862068964,9.448275862068964,9.448275862068964,9.448275862068964,9.448275862068964,9.448275862068964,9.448275862068964,9.448275862068964,9.448275862068964,9.448275862068964,9.448275862068964,9.448275862068964,9.448275862068964,9.448275862068964,9.448275862068964,9.448275862068964,9.448275862068964,9.448275862068964,9.448275862068964,9.448275862068964,9.448275862068964,9.448275862068964,9.448275862068964,9.448275862068964,9.448275862068964],[9.724137931034482,9.724137931034482,9.724137931034482,9.724137931034482,9.724137931034482,9.724137931034482,9.724137931034482,9.724137931034482,9.724137931034482,9.724137931034482,9.724137931034482,9.724137931034482,9.724137931034482,9.724137931034482,9.724137931034482,9.724137931034482,9.724137931034482,9.724137931034482,9.724137931034482,9.724137931034482,9.724137931034482,9.724137931034482,9.724137931034482,9.724137931034482,9.724137931034482,9.724137931034482,9.724137931034482,9.724137931034482,9.724137931034482,9.724137931034482],[10.0,10.0,10.0,10.0,10.0,10.0,10.0,10.0,10.0,10.0,10.0,10.0,10.0,10.0,10.0,10.0,10.0,10.0,10.0,10.0,10.0,10.0,10.0,10.0,10.0,10.0,10.0,10.0,10.0,10.0]],\"z\":[[204.0,192.43051201671892,183.48182665424042,176.38687973086627,170.65134099616859,165.94229415904294,162.02732595966168,158.73926194797338,155.95477671000566,153.58090185676394,151.54622688655672,149.79499291450165,148.28302731751006,146.9748829289059,145.841784989858,144.86013173188687,144.01038190582128,143.27621756132243,142.64390576988734,142.10180623973727,141.63998734577666,141.24992371071102,140.92425582080756,140.65659732117413,140.44137931034481,140.27372360331464,140.14933886440238,140.06443493581676,140.0156517485938,140.0],[192.43051201671892,180.93712391453175,172.06453843314722,165.04569139086698,159.38625253726323,154.75330558123153,150.9144372629442,147.70247313234984,144.99408777547603,142.69631280332825,140.73773771421497,139.06260362325386,137.62673790735622,136.394693399846,135.33769534189202,134.4321419650148,133.65849202004318,133.00042755663824,132.4442156462971,131.97821599724097,131.5924969843743,131.27853323040256,131.02896522159304,130.83740660305355,130.6982884733182,130.60673264738193,130.55844778956362,130.54964374207194,130.5769604359429,130.63740856844305],[183.48182665424042,172.06453843314722,163.26805283285663,156.32530567167032,150.7419666991605,146.18511962422275,142.42235118702934,139.28648693752893,136.65420146174907,134.4325263706952,132.55005116267589,130.9510169528087,129.59125111800498,128.43530649158868,127.45440831472865,126.62495481894538,125.92740475506767,125.3454401727567,124.86532814350946,124.47542837554728,124.16580924377453,123.92794537089677,123.75447724318116,123.6390185057356,123.5760002570942,123.56054431225185,123.58835933552749,123.65565516912974,123.75907174409464,123.89561975768872],[176.38687973086627,165.04569139086698,156.32530567167032,149.45865839157796,143.9514193001621,139.47067210631826,135.7840035502188,132.72423918181232,130.1680535871264,128.02247837716646,126.21610305024107,124.69316872146781,123.40950276775804,122.3296580224357,121.4248597266696,120.67150611198025,120.05005592919647,119.54419122797944,119.14017907982614,118.82637919295789,118.59285994227908,118.43109595049525,118.33372770387358,118.29436884752197,118.30745047997448,118.36809441622609,118.47200932059565,118.61540503529184,118.79492149135066,119.00756938603868],[170.65134099616859,159.38625253726323,150.7419666991605,143.9514193001621,138.52028008984013,134.11563277709024,130.5050641020847,127.52139961477216,125.04131390118017,122.9718385723142,121.24156312648273,119.79472867880341,118.58716260618758,117.58341774195915,116.75471932728699,116.07746559369158,115.53211529200175,115.10235047187865,114.77443820481929,114.53673819904498,114.37931882946009,114.2936547187702,114.27238635324247,114.3091273779848,114.39830889153124,114.53505270887678,114.71506749434029,114.93456309013041,115.19017942728318,115.47892720306513],[165.94229415904294,154.75330558123153,146.18511962422275,139.47067210631826,134.11563277709024,129.78708534543426,126.25261655152268,123.34505194530406,120.94106611280601,118.94769066503397,117.29351510029645,115.92278053371105,114.79131434218915,113.86366935905467,113.11107082547645,112.50991697297498,112.04066655237908,111.6870016133499,111.43518922738448,111.27358910270411,111.19226961421316,111.18270538461721,111.23753690018341,111.35037780601968,111.51565920066005,111.72850289909952,111.98461756565698,112.28021304254102,112.61192926078773,112.97677691766361],[162.02732595966168,150.9144372629442,142.42235118702934,135.7840035502188,130.5050641020847,126.25261655152268,122.79424763870504,119.96278291358037,117.63489696217624,115.71762139549814,114.13954571185455,112.84491102636309,111.78954471593514,110.93799961389459,110.26150096141029,109.73644699000276,109.3432964505008,109.06573139256557,108.89001888769408,108.80451864410763,108.79929903671064,108.86583468820861,108.99676608486875,109.18570687179894,109.42708814753325,109.71603172706666,110.04824627471805,110.41994163269604,110.82775773203669,111.2687052700065],[158.73926194797338,147.70247313234984,139.28648693752893,132.72423918181232,127.52139961477218,123.34505194530408,119.96278291358036,117.20741806954962,114.95563199923944,113.11445631365527,111.61248051110562,110.3939457067081,109.41467927737406,108.63923405642745,108.0388352850371,107.5898811947235,107.27283053631547,107.07136535947419,106.97175273569664,106.96235237320411,107.03323264690104,107.17586817949297,107.38289945724705,107.64794012527116,107.96542128209941,108.33046474272678,108.73877917147209,109.18657441054401,109.67049039097859,110.18753781004236],[155.95477671000566,144.99408777547603,136.65420146174907,130.1680535871264,125.04131390118017,120.94106611280601,117.63489696217624,114.95563199923944,112.7799458100232,111.01487000553296,109.58899408407723,108.44655916077366,107.54339261253357,106.84404727268088,106.31974838238447,105.94689417316481,105.70594339585071,105.58057810010335,105.55706535741975,105.62376487602117,105.77074503081204,105.98948044449787,106.2726116033459,106.61375215246396,107.00733319038615,107.44847653210743,107.93289084194669,108.45678596211255,109.01680182364106,109.60994912379876],[153.58090185676392,142.69631280332825,134.43252637069523,128.02247837716646,122.9718385723142,118.94769066503397,115.71762139549813,113.11445631365527,111.01487000553297,109.32589408213664,107.97611804177487,106.90978299956524,106.08271633241907,105.45947087366034,105.01127186445785,104.71451753633212,104.54966664011197,104.50040122545855,104.55298836386885,104.69578776356423,104.91886779944903,105.2137030942288,105.57293413417077,105.99017456438276,106.45985548339888,106.9770987062141,107.53761289714728,108.13760789840708,108.77372364102953,109.44297082228115],[151.54622688655672,140.73773771421497,132.55005116267589,126.21610305024107,121.24156312648273,117.29351510029645,114.13954571185455,111.61248051110562,109.58899408407723,107.97611804177487,106.70244188250702,105.71220672139131,104.9612399353391,104.41409435767429,104.04199522956574,103.82134078253395,103.73258976740773,103.75942423384824,103.88811125335249,104.10701053414179,104.40619045112054,104.77712562699425,105.21245654803013,105.70579685933609,106.25157765944613,106.84492076335529,107.48153483538242,108.15762971773614,108.86984534145253,109.6151924037981],[149.79499291450165,139.06260362325386,130.9510169528087,124.6931687214678,119.79472867880341,115.92278053371106,112.84491102636309,110.39394570670811,108.44655916077366,106.90978299956524,105.71220672139131,104.79807144136953,104.12320453641127,103.65215883984038,103.35615959282578,103.21160502688792,103.19895389285563,103.30188824039007,103.50667514098828,103.8016743028715,104.17695410094419,104.62398915791184,105.13541996004165,105.70486015244154,106.32674083364554,106.9961838186486,107.70889777176967,108.46109253521735,109.24940804002767,110.07085498346717],[148.28302731751006,137.62673790735622,129.59125111800498,123.40950276775804,118.58716260618758,114.79131434218915,111.78954471593514,109.41467927737406,107.54339261253357,106.08271633241907,104.9612399353391,104.12320453641125,103.5244375125469,103.12949169706998,102.9095923311493,102.84113764630537,102.90458639336703,103.08362062199541,103.36450740368754,103.7356064466647,104.18698612583133,104.71012106389291,105.29765174711666,105.94319182061048,106.64117238290841,107.38671524900543,108.17552908322043,109.00382372776203,109.86823911366629,110.76578593819973],[146.9748829289059,136.394693399846,128.43530649158868,122.3296580224357,117.58341774195917,113.86366935905467,110.93799961389459,108.63923405642745,106.8440472726809,105.45947087366034,104.41409435767429,103.6521588398404,103.12949169706998,102.81064576268697,102.66684627786024,102.67449147411027,102.81404010226585,103.06917421198816,103.42616087477423,103.87335979884533,104.40083935910589,105.0000741782614,105.6637047425791,106.38534469716684,107.15942514055871,107.98106788774967,108.8459816030586,109.75037612869413,110.69089139569233,111.6645381013197],[145.841784989858,135.33769534189202,127.45440831472865,121.42485972666958,116.754719327287,113.11107082547645,110.26150096141029,108.0388352850371,106.31974838238446,105.01127186445785,104.04199522956574,103.35615959282578,102.9095923311493,102.66684627786023,102.59914667412744,102.6828917514714,102.89854026072092,103.22977425153715,103.66286079541717,104.18615960058222,104.78973904193668,105.46507374218615,106.20480418759777,107.00254402327946,107.85272434776527,108.75046697605015,109.69148057245303,110.6719749791825,111.68859012727464,112.73833671399595],[144.86013173188687,134.4321419650148,126.62495481894538,120.67150611198025,116.07746559369158,112.50991697297498,109.73644699000276,107.5898811947235,105.94689417316481,104.71451753633212,103.82134078253395,103.21160502688792,102.84113764630538,102.67449147411025,102.68289175147139,102.84273670990927,103.13448510025273,103.54181897216293,104.05100539713686,104.65040408339584,105.33008340584425,106.08151798718765,106.89734831369321,107.77118803046883,108.69746823604856,109.6713107454274,110.68842422292421,111.74501851074763,112.83773353993368,113.96358000774893],[144.01038190582128,133.65849202004316,125.92740475506767,120.05005592919647,115.53211529200176,112.04066655237908,109.3432964505008,107.27283053631548,105.70594339585072,104.54966664011197,103.73258976740773,103.19895389285564,102.90458639336703,102.81404010226585,102.89854026072092,103.13448510025273,103.50233337169013,103.98576712469425,104.57105343076213,105.24655199811505,106.0023312016574,106.82986566409473,107.72179587169423,108.67173546956379,109.67411555623745,110.72405794671022,111.81727130530096,112.94996547421832,114.11878038449831,115.3207267334075],[143.27621756132243,133.00042755663824,125.3454401727567,119.54419122797944,115.10235047187865,111.6870016133499,109.06573139256557,107.07136535947419,105.58057810010334,104.50040122545855,103.75942423384822,103.30188824039007,103.08362062199541,103.06917421198816,103.22977425153715,103.54181897216293,103.98576712469423,104.54530075879231,105.20668694595412,105.95828539440097,106.79016447903726,107.69379882256851,108.66182891126195,109.68786839022545,110.76634835799305,111.89239062955977,113.06170386924444,114.27049791925572,115.51541271062965,116.79345894063277],[142.64390576988734,132.4442156462971,124.86532814350946,119.14017907982614,114.77443820481929,111.43518922738448,108.89001888769408,106.97175273569664,105.55706535741973,104.55298836386885,103.88811125335249,103.50667514098828,103.36450740368753,103.42616087477421,103.66286079541717,104.05100539713686,104.57105343076213,105.20668694595412,105.94417301420987,106.77187134375063,107.67985030948088,108.65958453410607,109.70371450389345,110.80585386395089,111.9604337128124,113.16257586547306,114.40798898625167,115.69288291735688,117.01389758982475,118.36804370092182],[142.10180623973727,131.97821599724097,124.47542837554728,118.82637919295789,114.53673819904498,111.27358910270411,108.80451864410763,106.96235237320411,105.62376487602117,104.69578776356423,104.10701053414179,103.8016743028715,103.73560644666472,103.87335979884533,104.18615960058222,104.65040408339584,105.24655199811504,105.95828539440097,106.77187134375065,107.67566955438537,108.65974840120953,109.71558250692867,110.83581235780998,112.01405159896134,113.24473132891683,114.5229733626714,115.84448636454394,117.2054801767431,118.6025947303049,120.03284072249589],[141.63998734577666,131.5924969843743,124.16580924377453,118.59285994227908,114.37931882946009,111.19226961421316,108.79929903671064,107.03323264690104,105.77074503081204,104.91886779944903,104.40619045112054,104.17695410094419,104.18698612583131,104.40083935910587,104.78973904193668,105.33008340584425,106.00233120165738,106.79016447903726,107.67985030948088,108.65974840120953,109.71992712912763,110.85186111594071,112.04819084791595,113.30252997016125,114.60930958121065,115.96365149605917,117.36126437902566,118.79835807231873,120.2715725069745,121.77791838025942],[141.24992371071102,131.2785332304026,123.92794537089675,118.43109595049525,114.2936547187702,111.1827053846172,108.86583468820861,107.17586817949295,105.98948044449787,105.2137030942288,104.77712562699425,104.62398915791182,104.71012106389291,105.0000741782614,105.46507374218614,106.08151798718764,106.82986566409473,107.69379882256852,108.65958453410607,109.71558250692867,110.85186111594071,112.05989498384771,113.33232459691689,114.66276360025613,116.04564309239947,117.47608488834193,118.94979765240234,120.46299122678936,122.01230554253904,123.5947512969179],[140.92425582080756,131.02896522159304,123.75447724318116,118.33372770387358,114.27238635324247,111.2375369001834,108.99676608486875,107.38289945724704,106.2726116033459,105.57293413417075,105.21245654803013,105.13541996004166,105.29765174711666,105.6637047425791,106.20480418759777,106.89734831369321,107.72179587169423,108.66182891126196,109.70371450389345,110.83581235780998,112.04819084791593,113.33232459691689,114.68085409108001,116.08739297551317,117.54637234875047,119.05291402578685,120.6027266709412,122.19202012642215,123.81743432326577,125.47597995873858],[140.65659732117413,130.83740660305355,123.6390185057356,118.29436884752198,114.3091273779848,111.35037780601968,109.18570687179894,107.64794012527116,106.61375215246395,105.99017456438276,105.70579685933609,105.70486015244154,105.94319182061048,106.38534469716683,107.00254402327946,107.77118803046883,108.67173546956377,109.68786839022545,110.80585386395089,112.01405159896134,113.30252997016123,114.66276360025611,116.08739297551318,117.57003174104028,119.10511099537152,120.68775255350184,122.31366507975011,123.97905841632499,125.68057249426258,127.4152180108293],[140.44137931034481,130.6982884733182,123.5760002570942,118.30745047997448,114.39830889153124,111.51565920066005,109.42708814753327,107.96542128209943,107.00733319038615,106.45985548339888,106.25157765944614,106.32674083364553,106.64117238290841,107.15942514055871,107.85272434776526,108.69746823604858,109.67411555623745,110.76634835799305,111.96043371281242,113.24473132891681,114.60930958121065,116.04564309239947,117.54637234875047,119.1051109953715,120.71629013079666,122.37503157002092,124.07704397736315,125.81853719503196,127.59615115406346,129.40689655172412],[140.2737236033146,130.60673264738193,123.56054431225186,118.36809441622609,114.53505270887678,111.72850289909952,109.71603172706668,108.33046474272678,107.44847653210743,106.97709870621411,106.84492076335529,106.99618381864862,107.38671524900543,107.98106788774967,108.75046697605016,109.6713107454274,110.72405794671022,111.89239062955977,113.16257586547306,114.5229733626714,115.96365149605917,117.47608488834193,119.05291402578685,120.68775255350184,122.37503157002092,124.10987289033912,125.88798517877528,127.70557827753802,129.55929211766346,131.44613739641807],[140.14933886440238,130.55844778956362,123.58835933552749,118.47200932059566,114.71506749434029,111.98461756565698,110.04824627471805,108.73877917147209,107.93289084194669,107.53761289714728,107.48153483538242,107.70889777176967,108.17552908322043,108.8459816030586,109.69148057245303,110.68842422292421,111.81727130530096,113.06170386924444,114.40798898625167,115.84448636454394,117.36126437902566,118.94979765240234,120.6027266709412,122.31366507975011,124.07704397736315,125.88798517877528,127.74219734830537,129.63589032816208,131.56570404938142,133.52864920922997],[140.06443493581676,130.54964374207194,123.65565516912974,118.61540503529184,114.93456309013041,112.28021304254102,110.41994163269604,109.18657441054401,108.45678596211255,108.13760789840708,108.15762971773614,108.46109253521735,109.00382372776201,109.75037612869414,110.6719749791825,111.74501851074763,112.94996547421832,114.27049791925572,115.69288291735688,117.2054801767431,118.79835807231873,120.46299122678937,122.19202012642216,123.97905841632499,125.81853719503198,127.70557827753802,129.63589032816208,131.60568318911268,133.611596791426,135.65064183236848],[140.0156517485938,130.5769604359429,123.75907174409464,118.79492149135068,115.19017942728318,112.61192926078773,110.82775773203669,109.6704903909786,109.01680182364106,108.77372364102955,108.86984534145253,109.24940804002766,109.86823911366629,110.69089139569233,111.68859012727462,112.8377335399337,114.11878038449831,115.51541271062966,117.01389758982477,118.6025947303049,120.2715725069745,122.01230554253904,123.81743432326577,125.68057249426256,127.59615115406346,129.55929211766346,131.56570404938142,133.611596791426,135.69361027483322,137.80875519686964],[140.0,130.63740856844305,123.89561975768872,119.00756938603868,115.47892720306513,112.97677691766361,111.2687052700065,110.18753781004236,109.60994912379876,109.44297082228117,109.6151924037981,110.07085498346717,110.76578593819973,111.6645381013197,112.73833671399595,113.96358000774893,115.3207267334075,116.79345894063277,118.36804370092182,120.03284072249589,121.77791838025942,123.5947512969179,125.47597995873858,127.4152180108293,129.40689655172412,131.44613739641807,133.52864920922997,135.65064183236848,137.80875519686964,140.0]],\"type\":\"surface\"}],                        {\"template\":{\"data\":{\"histogram2dcontour\":[{\"type\":\"histogram2dcontour\",\"colorbar\":{\"outlinewidth\":0,\"ticks\":\"\"},\"colorscale\":[[0.0,\"#0d0887\"],[0.1111111111111111,\"#46039f\"],[0.2222222222222222,\"#7201a8\"],[0.3333333333333333,\"#9c179e\"],[0.4444444444444444,\"#bd3786\"],[0.5555555555555556,\"#d8576b\"],[0.6666666666666666,\"#ed7953\"],[0.7777777777777778,\"#fb9f3a\"],[0.8888888888888888,\"#fdca26\"],[1.0,\"#f0f921\"]]}],\"choropleth\":[{\"type\":\"choropleth\",\"colorbar\":{\"outlinewidth\":0,\"ticks\":\"\"}}],\"histogram2d\":[{\"type\":\"histogram2d\",\"colorbar\":{\"outlinewidth\":0,\"ticks\":\"\"},\"colorscale\":[[0.0,\"#0d0887\"],[0.1111111111111111,\"#46039f\"],[0.2222222222222222,\"#7201a8\"],[0.3333333333333333,\"#9c179e\"],[0.4444444444444444,\"#bd3786\"],[0.5555555555555556,\"#d8576b\"],[0.6666666666666666,\"#ed7953\"],[0.7777777777777778,\"#fb9f3a\"],[0.8888888888888888,\"#fdca26\"],[1.0,\"#f0f921\"]]}],\"heatmap\":[{\"type\":\"heatmap\",\"colorbar\":{\"outlinewidth\":0,\"ticks\":\"\"},\"colorscale\":[[0.0,\"#0d0887\"],[0.1111111111111111,\"#46039f\"],[0.2222222222222222,\"#7201a8\"],[0.3333333333333333,\"#9c179e\"],[0.4444444444444444,\"#bd3786\"],[0.5555555555555556,\"#d8576b\"],[0.6666666666666666,\"#ed7953\"],[0.7777777777777778,\"#fb9f3a\"],[0.8888888888888888,\"#fdca26\"],[1.0,\"#f0f921\"]]}],\"heatmapgl\":[{\"type\":\"heatmapgl\",\"colorbar\":{\"outlinewidth\":0,\"ticks\":\"\"},\"colorscale\":[[0.0,\"#0d0887\"],[0.1111111111111111,\"#46039f\"],[0.2222222222222222,\"#7201a8\"],[0.3333333333333333,\"#9c179e\"],[0.4444444444444444,\"#bd3786\"],[0.5555555555555556,\"#d8576b\"],[0.6666666666666666,\"#ed7953\"],[0.7777777777777778,\"#fb9f3a\"],[0.8888888888888888,\"#fdca26\"],[1.0,\"#f0f921\"]]}],\"contourcarpet\":[{\"type\":\"contourcarpet\",\"colorbar\":{\"outlinewidth\":0,\"ticks\":\"\"}}],\"contour\":[{\"type\":\"contour\",\"colorbar\":{\"outlinewidth\":0,\"ticks\":\"\"},\"colorscale\":[[0.0,\"#0d0887\"],[0.1111111111111111,\"#46039f\"],[0.2222222222222222,\"#7201a8\"],[0.3333333333333333,\"#9c179e\"],[0.4444444444444444,\"#bd3786\"],[0.5555555555555556,\"#d8576b\"],[0.6666666666666666,\"#ed7953\"],[0.7777777777777778,\"#fb9f3a\"],[0.8888888888888888,\"#fdca26\"],[1.0,\"#f0f921\"]]}],\"surface\":[{\"type\":\"surface\",\"colorbar\":{\"outlinewidth\":0,\"ticks\":\"\"},\"colorscale\":[[0.0,\"#0d0887\"],[0.1111111111111111,\"#46039f\"],[0.2222222222222222,\"#7201a8\"],[0.3333333333333333,\"#9c179e\"],[0.4444444444444444,\"#bd3786\"],[0.5555555555555556,\"#d8576b\"],[0.6666666666666666,\"#ed7953\"],[0.7777777777777778,\"#fb9f3a\"],[0.8888888888888888,\"#fdca26\"],[1.0,\"#f0f921\"]]}],\"mesh3d\":[{\"type\":\"mesh3d\",\"colorbar\":{\"outlinewidth\":0,\"ticks\":\"\"}}],\"scatter\":[{\"fillpattern\":{\"fillmode\":\"overlay\",\"size\":10,\"solidity\":0.2},\"type\":\"scatter\"}],\"parcoords\":[{\"type\":\"parcoords\",\"line\":{\"colorbar\":{\"outlinewidth\":0,\"ticks\":\"\"}}}],\"scatterpolargl\":[{\"type\":\"scatterpolargl\",\"marker\":{\"colorbar\":{\"outlinewidth\":0,\"ticks\":\"\"}}}],\"bar\":[{\"error_x\":{\"color\":\"#2a3f5f\"},\"error_y\":{\"color\":\"#2a3f5f\"},\"marker\":{\"line\":{\"color\":\"#E5ECF6\",\"width\":0.5},\"pattern\":{\"fillmode\":\"overlay\",\"size\":10,\"solidity\":0.2}},\"type\":\"bar\"}],\"scattergeo\":[{\"type\":\"scattergeo\",\"marker\":{\"colorbar\":{\"outlinewidth\":0,\"ticks\":\"\"}}}],\"scatterpolar\":[{\"type\":\"scatterpolar\",\"marker\":{\"colorbar\":{\"outlinewidth\":0,\"ticks\":\"\"}}}],\"histogram\":[{\"marker\":{\"pattern\":{\"fillmode\":\"overlay\",\"size\":10,\"solidity\":0.2}},\"type\":\"histogram\"}],\"scattergl\":[{\"type\":\"scattergl\",\"marker\":{\"colorbar\":{\"outlinewidth\":0,\"ticks\":\"\"}}}],\"scatter3d\":[{\"type\":\"scatter3d\",\"line\":{\"colorbar\":{\"outlinewidth\":0,\"ticks\":\"\"}},\"marker\":{\"colorbar\":{\"outlinewidth\":0,\"ticks\":\"\"}}}],\"scattermapbox\":[{\"type\":\"scattermapbox\",\"marker\":{\"colorbar\":{\"outlinewidth\":0,\"ticks\":\"\"}}}],\"scatterternary\":[{\"type\":\"scatterternary\",\"marker\":{\"colorbar\":{\"outlinewidth\":0,\"ticks\":\"\"}}}],\"scattercarpet\":[{\"type\":\"scattercarpet\",\"marker\":{\"colorbar\":{\"outlinewidth\":0,\"ticks\":\"\"}}}],\"carpet\":[{\"aaxis\":{\"endlinecolor\":\"#2a3f5f\",\"gridcolor\":\"white\",\"linecolor\":\"white\",\"minorgridcolor\":\"white\",\"startlinecolor\":\"#2a3f5f\"},\"baxis\":{\"endlinecolor\":\"#2a3f5f\",\"gridcolor\":\"white\",\"linecolor\":\"white\",\"minorgridcolor\":\"white\",\"startlinecolor\":\"#2a3f5f\"},\"type\":\"carpet\"}],\"table\":[{\"cells\":{\"fill\":{\"color\":\"#EBF0F8\"},\"line\":{\"color\":\"white\"}},\"header\":{\"fill\":{\"color\":\"#C8D4E3\"},\"line\":{\"color\":\"white\"}},\"type\":\"table\"}],\"barpolar\":[{\"marker\":{\"line\":{\"color\":\"#E5ECF6\",\"width\":0.5},\"pattern\":{\"fillmode\":\"overlay\",\"size\":10,\"solidity\":0.2}},\"type\":\"barpolar\"}],\"pie\":[{\"automargin\":true,\"type\":\"pie\"}]},\"layout\":{\"autotypenumbers\":\"strict\",\"colorway\":[\"#636efa\",\"#EF553B\",\"#00cc96\",\"#ab63fa\",\"#FFA15A\",\"#19d3f3\",\"#FF6692\",\"#B6E880\",\"#FF97FF\",\"#FECB52\"],\"font\":{\"color\":\"#2a3f5f\"},\"hovermode\":\"closest\",\"hoverlabel\":{\"align\":\"left\"},\"paper_bgcolor\":\"white\",\"plot_bgcolor\":\"#E5ECF6\",\"polar\":{\"bgcolor\":\"#E5ECF6\",\"angularaxis\":{\"gridcolor\":\"white\",\"linecolor\":\"white\",\"ticks\":\"\"},\"radialaxis\":{\"gridcolor\":\"white\",\"linecolor\":\"white\",\"ticks\":\"\"}},\"ternary\":{\"bgcolor\":\"#E5ECF6\",\"aaxis\":{\"gridcolor\":\"white\",\"linecolor\":\"white\",\"ticks\":\"\"},\"baxis\":{\"gridcolor\":\"white\",\"linecolor\":\"white\",\"ticks\":\"\"},\"caxis\":{\"gridcolor\":\"white\",\"linecolor\":\"white\",\"ticks\":\"\"}},\"coloraxis\":{\"colorbar\":{\"outlinewidth\":0,\"ticks\":\"\"}},\"colorscale\":{\"sequential\":[[0.0,\"#0d0887\"],[0.1111111111111111,\"#46039f\"],[0.2222222222222222,\"#7201a8\"],[0.3333333333333333,\"#9c179e\"],[0.4444444444444444,\"#bd3786\"],[0.5555555555555556,\"#d8576b\"],[0.6666666666666666,\"#ed7953\"],[0.7777777777777778,\"#fb9f3a\"],[0.8888888888888888,\"#fdca26\"],[1.0,\"#f0f921\"]],\"sequentialminus\":[[0.0,\"#0d0887\"],[0.1111111111111111,\"#46039f\"],[0.2222222222222222,\"#7201a8\"],[0.3333333333333333,\"#9c179e\"],[0.4444444444444444,\"#bd3786\"],[0.5555555555555556,\"#d8576b\"],[0.6666666666666666,\"#ed7953\"],[0.7777777777777778,\"#fb9f3a\"],[0.8888888888888888,\"#fdca26\"],[1.0,\"#f0f921\"]],\"diverging\":[[0,\"#8e0152\"],[0.1,\"#c51b7d\"],[0.2,\"#de77ae\"],[0.3,\"#f1b6da\"],[0.4,\"#fde0ef\"],[0.5,\"#f7f7f7\"],[0.6,\"#e6f5d0\"],[0.7,\"#b8e186\"],[0.8,\"#7fbc41\"],[0.9,\"#4d9221\"],[1,\"#276419\"]]},\"xaxis\":{\"gridcolor\":\"white\",\"linecolor\":\"white\",\"ticks\":\"\",\"title\":{\"standoff\":15},\"zerolinecolor\":\"white\",\"automargin\":true,\"zerolinewidth\":2},\"yaxis\":{\"gridcolor\":\"white\",\"linecolor\":\"white\",\"ticks\":\"\",\"title\":{\"standoff\":15},\"zerolinecolor\":\"white\",\"automargin\":true,\"zerolinewidth\":2},\"scene\":{\"xaxis\":{\"backgroundcolor\":\"#E5ECF6\",\"gridcolor\":\"white\",\"linecolor\":\"white\",\"showbackground\":true,\"ticks\":\"\",\"zerolinecolor\":\"white\",\"gridwidth\":2},\"yaxis\":{\"backgroundcolor\":\"#E5ECF6\",\"gridcolor\":\"white\",\"linecolor\":\"white\",\"showbackground\":true,\"ticks\":\"\",\"zerolinecolor\":\"white\",\"gridwidth\":2},\"zaxis\":{\"backgroundcolor\":\"#E5ECF6\",\"gridcolor\":\"white\",\"linecolor\":\"white\",\"showbackground\":true,\"ticks\":\"\",\"zerolinecolor\":\"white\",\"gridwidth\":2}},\"shapedefaults\":{\"line\":{\"color\":\"#2a3f5f\"}},\"annotationdefaults\":{\"arrowcolor\":\"#2a3f5f\",\"arrowhead\":0,\"arrowwidth\":1},\"geo\":{\"bgcolor\":\"white\",\"landcolor\":\"#E5ECF6\",\"subunitcolor\":\"white\",\"showland\":true,\"showlakes\":true,\"lakecolor\":\"white\"},\"title\":{\"x\":0.05},\"mapbox\":{\"style\":\"light\"}}},\"title\":{\"text\":\"Superficie de la pecera según largo y profundidad\"},\"autosize\":false,\"width\":800,\"height\":800},                        {\"responsive\": true}                    ).then(function(){\n",
              "                            \n",
              "var gd = document.getElementById('82e703bb-c5fb-44ce-866c-39dc21eba069');\n",
              "var x = new MutationObserver(function (mutations, observer) {{\n",
              "        var display = window.getComputedStyle(gd).display;\n",
              "        if (!display || display === 'none') {{\n",
              "            console.log([gd, 'removed!']);\n",
              "            Plotly.purge(gd);\n",
              "            observer.disconnect();\n",
              "        }}\n",
              "}});\n",
              "\n",
              "// Listen for the removal of the full notebook cells\n",
              "var notebookContainer = gd.closest('#notebook-container');\n",
              "if (notebookContainer) {{\n",
              "    x.observe(notebookContainer, {childList: true});\n",
              "}}\n",
              "\n",
              "// Listen for the clearing of the current output cell\n",
              "var outputEl = gd.closest('.output');\n",
              "if (outputEl) {{\n",
              "    x.observe(outputEl, {childList: true});\n",
              "}}\n",
              "\n",
              "                        })                };                            </script>        </div>\n",
              "</body>\n",
              "</html>"
            ]
          },
          "metadata": {}
        }
      ]
    }
  ],
  "metadata": {
    "celltoolbar": "Slideshow",
    "kernelspec": {
      "display_name": "Python 3 (ipykernel)",
      "language": "python",
      "name": "python3"
    },
    "language_info": {
      "codemirror_mode": {
        "name": "ipython",
        "version": 3
      },
      "file_extension": ".py",
      "mimetype": "text/x-python",
      "name": "python",
      "nbconvert_exporter": "python",
      "pygments_lexer": "ipython3",
      "version": "3.7.8"
    },
    "colab": {
      "provenance": [],
      "collapsed_sections": [
        "FYF44EP4BA_s"
      ]
    }
  },
  "nbformat": 4,
  "nbformat_minor": 0
}