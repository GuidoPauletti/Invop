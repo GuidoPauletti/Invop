{
 "cells": [
  {
   "cell_type": "markdown",
   "id": "c5a75b8a",
   "metadata": {},
   "source": [
    "### Ejercicio 1"
   ]
  },
  {
   "cell_type": "code",
   "execution_count": 1,
   "id": "5bc02ea2",
   "metadata": {},
   "outputs": [],
   "source": [
    "# Importamos la clase Model de pyscipopt\n",
    "from pyscipopt import Model\n",
    "# Importamos numpy\n",
    "import numpy as np"
   ]
  },
  {
   "cell_type": "code",
   "execution_count": 2,
   "id": "08d5eb3c",
   "metadata": {},
   "outputs": [],
   "source": [
    "model = Model('Nutricionista')"
   ]
  },
  {
   "cell_type": "code",
   "execution_count": 3,
   "id": "1fc7f977",
   "metadata": {},
   "outputs": [],
   "source": [
    "contenidoVitaminico = np.array([\n",
    "    [0.03, 0.01, 0.04],\n",
    "    [0.02, 0.015, 0.03],\n",
    "    [0.04, 0.005, 0.02]\n",
    "])\n",
    "\n",
    "RDM = [0.3, 0.12, 0.21]\n",
    "\n",
    "costo = [0.15, 0.10, 0.12]"
   ]
  },
  {
   "cell_type": "code",
   "execution_count": 4,
   "id": "2b11d5f9",
   "metadata": {},
   "outputs": [],
   "source": [
    "alimento_1 = model.addVar(name = 'alimento_1', vtype = 'I')\n",
    "alimento_2 = model.addVar(name = 'alimento_2', vtype = 'I')\n",
    "alimento_3 = model.addVar(name = 'alimento_3', vtype = 'I')\n",
    "\n",
    "alimentos = [alimento_1, alimento_2, alimento_3]"
   ]
  },
  {
   "cell_type": "code",
   "execution_count": 5,
   "id": "48d48ecc",
   "metadata": {},
   "outputs": [
    {
     "data": {
      "text/plain": [
       "Porcion minima"
      ]
     },
     "execution_count": 5,
     "metadata": {},
     "output_type": "execute_result"
    }
   ],
   "source": [
    "model.addCons(30*(alimento_1 + alimento_2 + alimento_3) >= 225, name = \"Porcion minima\")"
   ]
  },
  {
   "cell_type": "code",
   "execution_count": 6,
   "id": "d0475056",
   "metadata": {},
   "outputs": [
    {
     "data": {
      "text/plain": [
       "c4"
      ]
     },
     "execution_count": 6,
     "metadata": {},
     "output_type": "execute_result"
    }
   ],
   "source": [
    "# contenido minimo de vitamina A\n",
    "model.addCons(sum(contenidoVitaminico[i, 0] * alimentos[i] for i in range(3)) >= RDM[0])\n",
    "\n",
    "# contenido minimo de vitamina C\n",
    "model.addCons(sum(contenidoVitaminico[i, 1] * alimentos[i] for i in range(3)) >= RDM[1])\n",
    "\n",
    "# contenido minimo de vitamina D\n",
    "model.addCons(sum(contenidoVitaminico[i, 2] * alimentos[i] for i in range(3)) >= RDM[2])"
   ]
  },
  {
   "cell_type": "code",
   "execution_count": 7,
   "id": "f6ec683c",
   "metadata": {},
   "outputs": [],
   "source": [
    "model.setObjective(sum(costo[i]*alimentos[i] for i in range(3)), sense='minimize')"
   ]
  },
  {
   "cell_type": "code",
   "execution_count": 8,
   "id": "d1d955f8",
   "metadata": {},
   "outputs": [
    {
     "name": "stdout",
     "output_type": "stream",
     "text": [
      "feasible solution found by trivial heuristic after 0.0 seconds, objective value 3.700000e+04\n",
      "presolving:\n",
      "(round 1, fast)       0 del vars, 0 del conss, 0 add conss, 3 chg bounds, 1 chg sides, 0 chg coeffs, 0 upgd conss, 0 impls, 0 clqs\n",
      "(round 2, fast)       0 del vars, 0 del conss, 0 add conss, 6 chg bounds, 1 chg sides, 0 chg coeffs, 0 upgd conss, 0 impls, 0 clqs\n",
      "   (0.0s) symmetry computation started: requiring (bin +, int +, cont +), (fixed: bin -, int -, cont -)\n",
      "   (0.0s) no symmetry present (symcode time: 0.00)\n",
      "presolving (3 rounds: 3 fast, 1 medium, 1 exhaustive):\n",
      " 0 deleted vars, 0 deleted constraints, 0 added constraints, 6 tightened bounds, 0 added holes, 1 changed sides, 0 changed coefficients\n",
      " 0 implications, 0 cliques\n",
      "presolved problem has 3 variables (0 bin, 3 int, 0 impl, 0 cont) and 4 constraints\n",
      "      4 constraints of type <linear>\n",
      "transformed objective value is always integral (scale: 0.01)\n",
      "Presolving Time: 0.00\n",
      "\n",
      " time | node  | left  |LP iter|LP it/n|mem/heur|mdpt |vars |cons |rows |cuts |sepa|confs|strbr|  dualbound   | primalbound  |  gap   | compl. \n",
      "t 0.0s|     1 |     0 |     0 |     - | trivial|   0 |   3 |   4 |   0 |   0 |  0 |   0 |   0 | 0.000000e+00 | 6.180000e+00 |    Inf | unknown\n",
      "i 0.0s|     1 |     0 |     0 |     - |  oneopt|   0 |   3 |   4 |   4 |   0 |  0 |   0 |   0 | 0.000000e+00 | 1.500000e+00 |    Inf | unknown\n",
      "  0.0s|     1 |     0 |     3 |     - |   611k |   0 |   3 |   4 |   4 |   0 |  0 |   0 |   0 | 1.164000e+00 | 1.500000e+00 |  28.87%| unknown\n",
      "r 0.0s|     1 |     0 |     3 |     - |simplero|   0 |   3 |   4 |   4 |   0 |  0 |   0 |   0 | 1.164000e+00 | 1.300000e+00 |  11.68%| unknown\n",
      "r 0.0s|     1 |     0 |     3 |     - |randroun|   0 |   3 |   4 |   4 |   0 |  0 |   0 |   0 | 1.164000e+00 | 1.180000e+00 |   1.37%| unknown\n",
      "  0.0s|     1 |     0 |     3 |     - |   615k |   0 |   3 |   4 |   4 |   0 |  0 |   0 |   0 | 1.164000e+00 | 1.180000e+00 |   1.37%| unknown\n",
      "  0.0s|     1 |     0 |     3 |     - |   615k |   0 |   3 |   4 |   4 |   0 |  0 |   0 |   0 | 1.164000e+00 | 1.180000e+00 |   1.37%| unknown\n",
      "  0.0s|     1 |     0 |     3 |     - |   615k |   0 |   3 |   4 |   4 |   0 |  0 |   0 |   0 | 1.180000e+00 | 1.180000e+00 |   0.00%| unknown\n",
      "\n",
      "SCIP Status        : problem is solved [optimal solution found]\n",
      "Solving Time (sec) : 0.00\n",
      "Solving Nodes      : 1\n",
      "Primal Bound       : +1.18000000000000e+00 (5 solutions)\n",
      "Dual Bound         : +1.18000000000000e+00\n",
      "Gap                : 0.00 %\n",
      "Valor de alimento_1:  0.0\n",
      "Valor de alimento_2:  7.0\n",
      "Valor de alimento_3:  4.0\n",
      "Valor optimo de la f.o.: 1.18\n"
     ]
    }
   ],
   "source": [
    "# Optimizar\n",
    "model.redirectOutput()\n",
    "model.optimize()\n",
    "\n",
    "sol = model.getBestSol()\n",
    "\n",
    "# Solucion optima y valor optimo de la f.o.\n",
    "for var in alimentos:\n",
    "  print(f'Valor de {var.name}: ', sol[var])\n",
    "\n",
    "print(f'Valor optimo de la f.o.: {model.getObjVal()}')"
   ]
  },
  {
   "cell_type": "code",
   "execution_count": 10,
   "id": "64d63f0c",
   "metadata": {},
   "outputs": [
    {
     "data": {
      "text/plain": [
       "0.02"
      ]
     },
     "execution_count": 10,
     "metadata": {},
     "output_type": "execute_result"
    }
   ],
   "source": [
    "4*0.005"
   ]
  }
 ],
 "metadata": {
  "kernelspec": {
   "display_name": "Python 3",
   "language": "python",
   "name": "python3"
  },
  "language_info": {
   "codemirror_mode": {
    "name": "ipython",
    "version": 3
   },
   "file_extension": ".py",
   "mimetype": "text/x-python",
   "name": "python",
   "nbconvert_exporter": "python",
   "pygments_lexer": "ipython3",
   "version": "3.13.5"
  }
 },
 "nbformat": 4,
 "nbformat_minor": 5
}
