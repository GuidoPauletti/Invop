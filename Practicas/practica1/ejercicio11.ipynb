{
 "cells": [
  {
   "cell_type": "code",
   "execution_count": 1,
   "id": "8c35b055",
   "metadata": {},
   "outputs": [],
   "source": [
    "import numpy as np\n",
    "from pyscipopt import Model, quicksum"
   ]
  },
  {
   "cell_type": "code",
   "execution_count": 2,
   "id": "968ffdf9",
   "metadata": {},
   "outputs": [],
   "source": [
    "model = Model(\"camiones\")"
   ]
  },
  {
   "cell_type": "code",
   "execution_count": 3,
   "id": "1a2f285e",
   "metadata": {},
   "outputs": [],
   "source": [
    "# variables endogenas\n",
    "costos = np.array([\n",
    "    [9,6,5],\n",
    "    [7,4,9],\n",
    "    [4,6,3]\n",
    "])\n",
    "\n",
    "disponibles = [700, 600, 400] # A, B, C\n",
    "necesitados = [800, 500, 400] # 1, 2, 3\n",
    "\n",
    "cap_max = 600\n",
    "costo_camion = 50\n",
    "recargo_quinto_camion = 65 - 50 # 15"
   ]
  },
  {
   "cell_type": "code",
   "execution_count": 4,
   "id": "187053b4",
   "metadata": {},
   "outputs": [],
   "source": [
    "# variables exogenas\n",
    "\n",
    "x = np.empty((3,3), dtype=object) # kilos transportados\n",
    "y = np.empty((3,3), dtype=object) # camiones usados\n",
    "for i in range(3):\n",
    "    for j in range(3):\n",
    "        x[i,j] = model.addVar(vtype=\"I\", name=f\"x_{i}_{j}\", lb=0)\n",
    "        y[i,j] = model.addVar(vtype=\"B\", name=f\"y_{i}_{j}\")\n",
    "\n",
    "quinto = model.addVar(vtype=\"B\", name=\"quinto\") # alquiler de quinto camion\n"
   ]
  },
  {
   "cell_type": "code",
   "execution_count": 5,
   "id": "37e2be84",
   "metadata": {},
   "outputs": [],
   "source": [
    "# restricciones\n",
    "\n",
    "# maxima carga de camiones\n",
    "for i in range(3):\n",
    "    for j in range(3):\n",
    "        model.addCons(cap_max*y[i,j] >= x[i, j], name=f\"capacidad maxima x_{i}_{j}\")\n",
    "\n",
    "# limite en cantidad de camiones\n",
    "model.addCons(sum(y[i,j] for i in range(3) for j in range(3)) <= 4 + quinto, name=\"disponibilidad de camiones\")\n",
    "\n",
    "# el sitio 2 no puede recibir de A y B simultaneamente\n",
    "model.addCons(y[0,1] + y[1,1] <= 1, name=\"sitio 2 no puede recibir de A y B simultaneamente\")\n",
    "\n",
    "# se satisfacen las necesidades de cada sitio\n",
    "for j in range(3):\n",
    "    model.addCons(sum(x[i, j] for i in range(3)) == necesitados[j])\n",
    "\n",
    "# se obtienen los kilos disponibles\n",
    "for i in range(3):\n",
    "    model.addCons(sum(x[i, j] for j in range(3)) == disponibles[i])\n",
    "    "
   ]
  },
  {
   "cell_type": "code",
   "execution_count": 6,
   "id": "7399bfa9",
   "metadata": {},
   "outputs": [],
   "source": [
    "# fo\n",
    "model.setObjective(\n",
    "    quicksum(costo_camion*y[i,j] + costos[i,j]*x[i,j] for i in range(3) for j in range(3)) + quinto*recargo_quinto_camion,\n",
    "    sense=\"minimize\"\n",
    "    )"
   ]
  },
  {
   "cell_type": "code",
   "execution_count": 7,
   "id": "83788020",
   "metadata": {},
   "outputs": [],
   "source": [
    "model.optimize()\n",
    "\n",
    "sol = model.getBestSol()\n",
    "\n",
    "model.writeSol(sol, \"soluciones/ejercicio11.sol\")"
   ]
  }
 ],
 "metadata": {
  "kernelspec": {
   "display_name": "Python 3",
   "language": "python",
   "name": "python3"
  },
  "language_info": {
   "codemirror_mode": {
    "name": "ipython",
    "version": 3
   },
   "file_extension": ".py",
   "mimetype": "text/x-python",
   "name": "python",
   "nbconvert_exporter": "python",
   "pygments_lexer": "ipython3",
   "version": "3.13.5"
  }
 },
 "nbformat": 4,
 "nbformat_minor": 5
}
