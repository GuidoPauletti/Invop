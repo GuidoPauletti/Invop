{
 "cells": [
  {
   "cell_type": "code",
   "execution_count": 1,
   "id": "1c7285fd",
   "metadata": {},
   "outputs": [],
   "source": [
    "# Importamos la clase Model de pyscipopt\n",
    "from pyscipopt import Model\n",
    "# Importamos numpy\n",
    "import numpy as np"
   ]
  },
  {
   "cell_type": "code",
   "execution_count": 2,
   "id": "7d439568",
   "metadata": {},
   "outputs": [],
   "source": [
    "model = Model(\"Financiamiento para investigacion de energias\")"
   ]
  },
  {
   "cell_type": "code",
   "execution_count": 3,
   "id": "ee1546cc",
   "metadata": {},
   "outputs": [],
   "source": [
    "# creamos las variables de decision\n",
    "proyecto_1 = model.addVar(name=\"proyecto_1\", vtype=\"I\")\n",
    "proyecto_2 = model.addVar(name=\"proyecto_2\", vtype=\"I\")\n",
    "proyecto_3 = model.addVar(name=\"proyecto_3\", vtype=\"I\")\n",
    "proyecto_4 = model.addVar(name=\"proyecto_4\", vtype=\"I\")\n",
    "proyecto_5 = model.addVar(name=\"proyecto_5\", vtype=\"I\")\n",
    "proyecto_6 = model.addVar(name=\"proyecto_6\", vtype=\"I\")"
   ]
  },
  {
   "cell_type": "code",
   "execution_count": 4,
   "id": "61646627",
   "metadata": {},
   "outputs": [],
   "source": [
    "proyectos = [proyecto_1, proyecto_2, proyecto_3, proyecto_4, proyecto_5, proyecto_6]\n",
    "\n",
    "unidad_neta = [4.4, 3.8, 4.1, 3.5, 5.1, 3.2]\n",
    "\n",
    "financiamiento = [220, 180, 250, 150, 400, 120]"
   ]
  },
  {
   "cell_type": "code",
   "execution_count": 5,
   "id": "20153f8b",
   "metadata": {},
   "outputs": [
    {
     "data": {
      "text/plain": [
       "presupuesto total"
      ]
     },
     "execution_count": 5,
     "metadata": {},
     "output_type": "execute_result"
    }
   ],
   "source": [
    "# agregamos restricciones\n",
    "model.addCons(proyecto_5 >= financiamiento[4] * 0.5, name=\"financiamiento del 50% en energia nuclear\")\n",
    "model.addCons(proyecto_1 + proyecto_2 >= 300, name=\"inversion minima en energia solar\")\n",
    "\n",
    "# tope maximo por financiamiento\n",
    "for i, proyecto in enumerate(proyectos):\n",
    "    model.addCons(proyecto <= financiamiento[i], name=f\"financiamiento de proyecto {i}\")\n",
    "\n",
    "model.addCons(sum(proyectos) == 1000, name=\"presupuesto total\")"
   ]
  },
  {
   "cell_type": "code",
   "execution_count": 6,
   "id": "0d69dc26",
   "metadata": {},
   "outputs": [],
   "source": [
    "model.setObjective(sum(proyectos[i]*unidad_neta[i] for i in range(len(proyectos))), sense=\"maximize\")"
   ]
  },
  {
   "cell_type": "code",
   "execution_count": 7,
   "id": "87010d7d",
   "metadata": {},
   "outputs": [
    {
     "name": "stdout",
     "output_type": "stream",
     "text": [
      "presolving:\n",
      "(round 1, fast)       1 del vars, 7 del conss, 0 add conss, 7 chg bounds, 0 chg sides, 0 chg coeffs, 0 upgd conss, 0 impls, 0 clqs\n",
      "(round 2, fast)       1 del vars, 7 del conss, 0 add conss, 9 chg bounds, 0 chg sides, 0 chg coeffs, 0 upgd conss, 0 impls, 0 clqs\n",
      "(round 3, fast)       1 del vars, 7 del conss, 0 add conss, 11 chg bounds, 0 chg sides, 0 chg coeffs, 0 upgd conss, 0 impls, 0 clqs\n",
      "(round 4, exhaustive) 1 del vars, 7 del conss, 0 add conss, 11 chg bounds, 0 chg sides, 0 chg coeffs, 1 upgd conss, 0 impls, 0 clqs\n",
      "(round 5, exhaustive) 3 del vars, 7 del conss, 0 add conss, 11 chg bounds, 0 chg sides, 0 chg coeffs, 1 upgd conss, 0 impls, 0 clqs\n",
      "(round 6, fast)       3 del vars, 8 del conss, 0 add conss, 14 chg bounds, 0 chg sides, 0 chg coeffs, 1 upgd conss, 0 impls, 0 clqs\n",
      "(round 7, fast)       3 del vars, 8 del conss, 0 add conss, 14 chg bounds, 1 chg sides, 0 chg coeffs, 1 upgd conss, 0 impls, 0 clqs\n",
      "(round 8, exhaustive) 5 del vars, 8 del conss, 0 add conss, 14 chg bounds, 1 chg sides, 0 chg coeffs, 1 upgd conss, 0 impls, 0 clqs\n",
      "presolving (9 rounds: 9 fast, 4 medium, 4 exhaustive):\n",
      " 6 deleted vars, 9 deleted constraints, 0 added constraints, 15 tightened bounds, 0 added holes, 1 changed sides, 0 changed coefficients\n",
      " 0 implications, 0 cliques\n",
      "transformed 1/1 original solutions to the transformed problem space\n",
      "Presolving Time: 0.00\n",
      "\n",
      "SCIP Status        : problem is solved [optimal solution found]\n",
      "Solving Time (sec) : 0.00\n",
      "Solving Nodes      : 0\n",
      "Primal Bound       : +4.52700000000000e+03 (1 solutions)\n",
      "Dual Bound         : +4.52700000000000e+03\n",
      "Gap                : 0.00 %\n",
      "Valor de proyecto_1:  220.0\n",
      "Valor de proyecto_2:  130.0\n",
      "Valor de proyecto_3:  250.0\n",
      "Valor de proyecto_4:  -0.0\n",
      "Valor de proyecto_5:  400.0\n",
      "Valor de proyecto_6:  -0.0\n",
      "Valor optimo de la f.o.: 4527.0\n"
     ]
    }
   ],
   "source": [
    "# Optimizar\n",
    "model.redirectOutput()\n",
    "model.optimize()\n",
    "\n",
    "sol = model.getBestSol()\n",
    "\n",
    "# Solucion optima y valor optimo de la f.o.\n",
    "for var in proyectos:\n",
    "  print(f'Valor de {var.name}: ', sol[var])\n",
    "\n",
    "print(f'Valor optimo de la f.o.: {model.getObjVal()}')"
   ]
  }
 ],
 "metadata": {
  "kernelspec": {
   "display_name": "Python 3",
   "language": "python",
   "name": "python3"
  },
  "language_info": {
   "codemirror_mode": {
    "name": "ipython",
    "version": 3
   },
   "file_extension": ".py",
   "mimetype": "text/x-python",
   "name": "python",
   "nbconvert_exporter": "python",
   "pygments_lexer": "ipython3",
   "version": "3.13.5"
  }
 },
 "nbformat": 4,
 "nbformat_minor": 5
}
