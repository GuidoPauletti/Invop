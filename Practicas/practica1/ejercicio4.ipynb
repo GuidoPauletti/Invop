{
 "cells": [
  {
   "cell_type": "code",
   "execution_count": 1,
   "id": "28df1ac5",
   "metadata": {},
   "outputs": [],
   "source": [
    "# Importamos la clase Model de pyscipopt\n",
    "from pyscipopt import Model\n",
    "# Importamos numpy\n",
    "import numpy as np"
   ]
  },
  {
   "cell_type": "code",
   "execution_count": 2,
   "id": "43a32bf5",
   "metadata": {},
   "outputs": [],
   "source": [
    "model = Model(\"Ubicacion fabricas\")"
   ]
  },
  {
   "cell_type": "code",
   "execution_count": 3,
   "id": "032a6ec4",
   "metadata": {},
   "outputs": [],
   "source": [
    "# Matriz con variables exogenas\n",
    "b = np.array([[2, 4, 3]\n",
    "              ,[5, 3, 6]\n",
    "              ,[3, 4, 2]])\n",
    "\n",
    "max_produccion = [200, 400, 300]\n",
    "\n",
    "max_contaminacion = [150, 250, 200]\n",
    "\n",
    "penalizacion_contaminacion = [200, 150, 100]\n",
    "\n",
    "contaminacion = [0.5, 2, 1]"
   ]
  },
  {
   "cell_type": "code",
   "execution_count": 4,
   "id": "9be4dd5e",
   "metadata": {},
   "outputs": [],
   "source": [
    "# Creamos las variables\n",
    "y = np.empty(3, dtype=object)\n",
    "for i in range(3):\n",
    "    y[i] = model.addVar(name=f\"y_{i+1}\", vtype=\"B\")\n",
    "\n",
    "x = np.empty((3,3), dtype=object)\n",
    "for i in range(3):\n",
    "    for j in range(3):\n",
    "        x[i,j] = model.addVar(name=f\"x_{i+1}_{j+1}\", vtype=\"I\", lb=0)"
   ]
  },
  {
   "cell_type": "code",
   "execution_count": 5,
   "id": "a738d674",
   "metadata": {},
   "outputs": [
    {
     "data": {
      "text/plain": [
       "max_penalizacion"
      ]
     },
     "execution_count": 5,
     "metadata": {},
     "output_type": "execute_result"
    }
   ],
   "source": [
    "# Agregamos restricciones\n",
    "model.addCons(sum(y[j] for j in range(3)) == 1, name=\"elegir una ubicacion\")\n",
    "\n",
    "for j in range(3):\n",
    "    model.addCons(sum(x[i,j] for i in range(3)) <= max_produccion[j] * y[j], name=f\"max_produccion_{j+1}\")\n",
    "\n",
    "model.addCons(sum(penalizacion_contaminacion[j]*(sum(x[i,j] - max_contaminacion[j] for i in range(3))) for j in range(3)) <= 90000\n",
    "              , name=\"max_penalizacion\")"
   ]
  },
  {
   "cell_type": "code",
   "execution_count": 6,
   "id": "5369c5cb",
   "metadata": {},
   "outputs": [],
   "source": [
    "# funcion objetivo\n",
    "model.setObjective(sum(b[i,j]*x[i,j] for i in range(3) for j in range(3)), \"maximize\")"
   ]
  },
  {
   "cell_type": "code",
   "execution_count": 7,
   "id": "bcd66999",
   "metadata": {},
   "outputs": [
    {
     "name": "stdout",
     "output_type": "stream",
     "text": [
      "presolving:\n",
      "(round 1, fast)       0 del vars, 0 del conss, 0 add conss, 9 chg bounds, 0 chg sides, 0 chg coeffs, 0 upgd conss, 0 impls, 1 clqs\n",
      "(round 2, exhaustive) 0 del vars, 0 del conss, 0 add conss, 9 chg bounds, 0 chg sides, 0 chg coeffs, 1 upgd conss, 0 impls, 1 clqs\n",
      "(round 3, exhaustive) 6 del vars, 0 del conss, 0 add conss, 9 chg bounds, 0 chg sides, 0 chg coeffs, 1 upgd conss, 0 impls, 1 clqs\n",
      "(round 4, fast)       9 del vars, 4 del conss, 0 add conss, 9 chg bounds, 0 chg sides, 0 chg coeffs, 1 upgd conss, 0 impls, 1 clqs\n",
      "presolving (5 rounds: 5 fast, 3 medium, 3 exhaustive):\n",
      " 12 deleted vars, 5 deleted constraints, 0 added constraints, 9 tightened bounds, 0 added holes, 0 changed sides, 0 changed coefficients\n",
      " 0 implications, 0 cliques\n",
      "transformed 1/1 original solutions to the transformed problem space\n",
      "Presolving Time: 0.00\n",
      "\n",
      "SCIP Status        : problem is solved [optimal solution found]\n",
      "Solving Time (sec) : 0.00\n",
      "Solving Nodes      : 0\n",
      "Primal Bound       : +1.80000000000000e+03 (1 solutions)\n",
      "Dual Bound         : +1.80000000000000e+03\n",
      "Gap                : 0.00 %\n",
      "y_1: -0.0\n",
      "y_2: -0.0\n",
      "y_3: 1.0\n",
      "x_1_1: -0.0\n",
      "x_1_2: 0.0\n",
      "x_1_3: -0.0\n",
      "x_2_1: 0.0\n",
      "x_2_2: -0.0\n",
      "x_2_3: 300.0\n",
      "x_3_1: -0.0\n",
      "x_3_2: -0.0\n",
      "x_3_3: -0.0\n"
     ]
    }
   ],
   "source": [
    "# Optimizar\n",
    "model.redirectOutput()\n",
    "model.optimize()\n",
    "\n",
    "sol = model.getBestSol()\n",
    "\n",
    "# Imprimimos la solucion\n",
    "for v in model.getVars():\n",
    "    print(f\"{v.name}: {model.getSolVal(sol, v)}\")"
   ]
  },
  {
   "cell_type": "code",
   "execution_count": 8,
   "id": "94eefb9e",
   "metadata": {},
   "outputs": [],
   "source": [
    "model.writeSol(sol, 'solucion_fabricas.sol')"
   ]
  }
 ],
 "metadata": {
  "kernelspec": {
   "display_name": "Python 3",
   "language": "python",
   "name": "python3"
  },
  "language_info": {
   "codemirror_mode": {
    "name": "ipython",
    "version": 3
   },
   "file_extension": ".py",
   "mimetype": "text/x-python",
   "name": "python",
   "nbconvert_exporter": "python",
   "pygments_lexer": "ipython3",
   "version": "3.13.5"
  }
 },
 "nbformat": 4,
 "nbformat_minor": 5
}
