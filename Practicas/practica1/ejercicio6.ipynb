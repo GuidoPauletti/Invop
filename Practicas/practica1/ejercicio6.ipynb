{
 "cells": [
  {
   "cell_type": "code",
   "execution_count": null,
   "id": "ef8c5755",
   "metadata": {},
   "outputs": [],
   "source": [
    "# Importamos la clase Model de pyscipopt\n",
    "from pyscipopt import Model\n",
    "# Importamos numpy\n",
    "import numpy as np"
   ]
  },
  {
   "cell_type": "code",
   "execution_count": 10,
   "id": "e02c2950",
   "metadata": {},
   "outputs": [],
   "source": [
    "model = Model(\"Alquiler\")"
   ]
  },
  {
   "cell_type": "code",
   "execution_count": 11,
   "id": "8d300042",
   "metadata": {},
   "outputs": [],
   "source": [
    "# Variables exogenas\n",
    "\n",
    "utilidad = np.array([\n",
    "    [12, 22, 38, 40],\n",
    "    [0, 13, 20, 29],\n",
    "    [0, 0, 10, 19],\n",
    "    [0, 0 ,0, 12]\n",
    "    ])"
   ]
  },
  {
   "cell_type": "code",
   "execution_count": 12,
   "id": "7860a199",
   "metadata": {},
   "outputs": [],
   "source": [
    "# Variables de decision\n",
    "\n",
    "x = np.empty((4,4), dtype=object)\n",
    "for i in range(4):\n",
    "    for j in range(4):\n",
    "        x[i,j] = model.addVar(vtype=\"B\", name=f\"x_{i + 1}->{j + 2}\")"
   ]
  },
  {
   "cell_type": "code",
   "execution_count": null,
   "id": "ed3e874e",
   "metadata": {},
   "outputs": [],
   "source": [
    "# Restricciones\n",
    "\n",
    "for i in range(4):\n",
    "    model.addCons(np.sum(x[i,:]) <= 1, name=\"no se repite inicio de contrato\")\n",
    "    model.addCons(np.sum(x[:,i]) <= 1, name=\"no se repite fin de contrato\")\n",
    "\n",
    "for i in range(4):\n",
    "    for j in range(4):\n",
    "        model.addCons(x[i,j] + np.sum(x[i:j,:4]) <= 1, name=f\"no se pisan contratos {i} {j}\")"
   ]
  },
  {
   "cell_type": "code",
   "execution_count": 14,
   "id": "48193f8d",
   "metadata": {},
   "outputs": [],
   "source": [
    "model.setObjective(np.sum(utilidad * x), \"maximize\")"
   ]
  },
  {
   "cell_type": "code",
   "execution_count": 15,
   "id": "fa929aa0",
   "metadata": {},
   "outputs": [
    {
     "name": "stdout",
     "output_type": "stream",
     "text": [
      "feasible solution found by trivial heuristic after 0.0 seconds, objective value 0.000000e+00\n",
      "presolving:\n",
      "(round 1, fast)       6 del vars, 12 del conss, 0 add conss, 0 chg bounds, 0 chg sides, 0 chg coeffs, 0 upgd conss, 0 impls, 11 clqs\n",
      "(round 2, exhaustive) 6 del vars, 20 del conss, 0 add conss, 0 chg bounds, 7 chg sides, 0 chg coeffs, 0 upgd conss, 0 impls, 11 clqs\n",
      "(round 3, exhaustive) 6 del vars, 20 del conss, 0 add conss, 0 chg bounds, 7 chg sides, 0 chg coeffs, 4 upgd conss, 0 impls, 11 clqs\n",
      "(round 4, fast)       11 del vars, 21 del conss, 0 add conss, 0 chg bounds, 7 chg sides, 0 chg coeffs, 4 upgd conss, 0 impls, 2 clqs\n",
      "(round 5, fast)       13 del vars, 23 del conss, 0 add conss, 0 chg bounds, 7 chg sides, 0 chg coeffs, 4 upgd conss, 0 impls, 1 clqs\n",
      "presolving (6 rounds: 6 fast, 3 medium, 3 exhaustive):\n",
      " 16 deleted vars, 24 deleted constraints, 0 added constraints, 0 tightened bounds, 0 added holes, 7 changed sides, 0 changed coefficients\n",
      " 0 implications, 0 cliques\n",
      "transformed 1/2 original solutions to the transformed problem space\n",
      "Presolving Time: 0.00\n",
      "\n",
      "SCIP Status        : problem is solved [optimal solution found]\n",
      "Solving Time (sec) : 0.00\n",
      "Solving Nodes      : 0\n",
      "Primal Bound       : +6.70000000000000e+01 (2 solutions)\n",
      "Dual Bound         : +6.70000000000000e+01\n",
      "Gap                : 0.00 %\n",
      "x_1->2: -0.0\n",
      "x_1->3: -0.0\n",
      "x_1->4: 1.0\n",
      "x_1->5: -0.0\n",
      "x_2->2: -0.0\n",
      "x_2->3: -0.0\n",
      "x_2->4: -0.0\n",
      "x_2->5: 1.0\n",
      "x_3->2: -0.0\n",
      "x_3->3: -0.0\n",
      "x_3->4: -0.0\n",
      "x_3->5: -0.0\n",
      "x_4->2: -0.0\n",
      "x_4->3: -0.0\n",
      "x_4->4: -0.0\n",
      "x_4->5: -0.0\n"
     ]
    }
   ],
   "source": [
    "# Optimizar\n",
    "model.redirectOutput()\n",
    "model.optimize()\n",
    "\n",
    "sol = model.getBestSol()\n",
    "\n",
    "# Imprimimos la solucion\n",
    "for v in model.getVars():\n",
    "    print(f\"{v.name}: {model.getSolVal(sol, v)}\")"
   ]
  },
  {
   "cell_type": "code",
   "execution_count": 16,
   "id": "28555553",
   "metadata": {},
   "outputs": [],
   "source": [
    "model.writeSol(sol, 'soluciones/ejercicio_6.sol')"
   ]
  }
 ],
 "metadata": {
  "kernelspec": {
   "display_name": "Python 3",
   "language": "python",
   "name": "python3"
  },
  "language_info": {
   "codemirror_mode": {
    "name": "ipython",
    "version": 3
   },
   "file_extension": ".py",
   "mimetype": "text/x-python",
   "name": "python",
   "nbconvert_exporter": "python",
   "pygments_lexer": "ipython3",
   "version": "3.13.5"
  }
 },
 "nbformat": 4,
 "nbformat_minor": 5
}
