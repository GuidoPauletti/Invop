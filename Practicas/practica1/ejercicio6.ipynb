{
 "cells": [
  {
   "cell_type": "code",
   "execution_count": 1,
   "id": "e00c74a7",
   "metadata": {},
   "outputs": [
    {
     "name": "stdout",
     "output_type": "stream",
     "text": [
      "Solución óptima:\n",
      "Contrato desde año 1 hasta 4 (utilidad 38)\n",
      "Contrato desde año 4 hasta 5 (utilidad 12)\n",
      "Utilidad total: 50.0\n"
     ]
    }
   ],
   "source": [
    "from pyscipopt import Model, quicksum\n",
    "\n",
    "# Datos del problema\n",
    "utilidad = {\n",
    "    (1,2): 12, (1,3): 22, (1,4): 38, (1,5): 40,\n",
    "    (2,3): 13, (2,4): 20, (2,5): 29,\n",
    "    (3,4): 10, (3,5): 19,\n",
    "    (4,5): 12\n",
    "}\n",
    "\n",
    "# Modelo\n",
    "model = Model(\"Alquiler\")\n",
    "\n",
    "# Variables: x[i,j] = 1 si el contrato va desde año i hasta j\n",
    "x = {}\n",
    "for (i,j) in utilidad.keys():\n",
    "    x[i,j] = model.addVar(vtype=\"B\", name=f\"x_{i}_{j}\")\n",
    "\n",
    "# Objetivo: maximizar la utilidad total\n",
    "model.setObjective(quicksum(utilidad[i,j]*x[i,j] for (i,j) in utilidad), \"maximize\")\n",
    "\n",
    "# Restricciones: cada año 1..4 debe estar cubierto exactamente por un contrato\n",
    "for t in range(1,5):  # años 1,2,3,4\n",
    "    model.addCons(\n",
    "        quicksum(x[i,j] for (i,j) in utilidad if i <= t < j) == 1,\n",
    "        name=f\"cobertura_anio_{t}\"\n",
    "    )\n",
    "\n",
    "# Optimizar\n",
    "model.optimize()\n",
    "\n",
    "# Mostrar resultados\n",
    "print(\"Solución óptima:\")\n",
    "for (i,j) in utilidad:\n",
    "    if model.getVal(x[i,j]) > 0.5:\n",
    "        print(f\"Contrato desde año {i} hasta {j} (utilidad {utilidad[i,j]})\")\n",
    "\n",
    "print(\"Utilidad total:\", model.getObjVal())\n"
   ]
  },
  {
   "cell_type": "code",
   "execution_count": 2,
   "id": "28555553",
   "metadata": {},
   "outputs": [],
   "source": [
    "sol = model.getBestSol()\n",
    "\n",
    "model.writeSol(sol, 'soluciones/ejercicio_6.sol')"
   ]
  }
 ],
 "metadata": {
  "kernelspec": {
   "display_name": "Python 3",
   "language": "python",
   "name": "python3"
  },
  "language_info": {
   "codemirror_mode": {
    "name": "ipython",
    "version": 3
   },
   "file_extension": ".py",
   "mimetype": "text/x-python",
   "name": "python",
   "nbconvert_exporter": "python",
   "pygments_lexer": "ipython3",
   "version": "3.13.5"
  }
 },
 "nbformat": 4,
 "nbformat_minor": 5
}
