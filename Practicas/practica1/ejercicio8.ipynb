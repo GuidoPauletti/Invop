{
 "cells": [
  {
   "cell_type": "code",
   "execution_count": 1,
   "id": "f19ba631",
   "metadata": {},
   "outputs": [],
   "source": [
    "from pyscipopt import Model\n",
    "import numpy as np\n",
    "from itertools import combinations"
   ]
  },
  {
   "cell_type": "code",
   "execution_count": 2,
   "id": "612076f0",
   "metadata": {},
   "outputs": [],
   "source": [
    "# create np array with assets/ATSP_17.csv\n",
    "data = np.loadtxt('assets/ATSP_17.csv', delimiter=';')\n",
    "n = data.shape[0]"
   ]
  },
  {
   "cell_type": "markdown",
   "id": "640c9f5d",
   "metadata": {},
   "source": [
    "### Primer modelo"
   ]
  },
  {
   "cell_type": "code",
   "execution_count": 3,
   "id": "3ab6db35",
   "metadata": {},
   "outputs": [],
   "source": [
    "model_1 = Model(\"ATSP_1\")"
   ]
  },
  {
   "cell_type": "code",
   "execution_count": 4,
   "id": "2c696bb2",
   "metadata": {},
   "outputs": [],
   "source": [
    "# add variables\n",
    "x = np.empty((n, n), dtype=object)\n",
    "for i in range(n):\n",
    "    for j in range(n):\n",
    "        if i != j:\n",
    "            x[i, j] = model_1.addVar(vtype=\"B\", name=f\"x_{i}_{j}\")\n",
    "        else:\n",
    "            x[i, j] = None\n",
    "\n",
    "# add restrictions\n",
    "for i in range(n):\n",
    "    model_1.addCons(sum(x[i, j] for j in range(n) if j != i) == 1, name=f\"out_{i}\")\n",
    "    model_1.addCons(sum(x[j, i] for j in range(n) if j != i) == 1, name=f\"in_{i}\")\n",
    "\n",
    "for subset_length in range(2, n):\n",
    "    for subset in combinations([i for i in range(n)], subset_length):\n",
    "        model_1.addCons(sum(x[i, j] for i in subset for j in subset if i != j) <= subset_length)\n",
    "\n",
    "    "
   ]
  },
  {
   "cell_type": "code",
   "execution_count": 5,
   "id": "ba37be61",
   "metadata": {},
   "outputs": [],
   "source": [
    "# seteamos el objetivo\n",
    "\n",
    "model_1.setObjective(sum(x[i, j]*data[i,j] for i in range(n) for j in range(n) if i != j), sense=\"minimize\")"
   ]
  },
  {
   "cell_type": "code",
   "execution_count": null,
   "id": "8e13a5d9",
   "metadata": {},
   "outputs": [],
   "source": [
    "# resolver\n",
    "\n",
    "model_1.optimize()\n",
    "\n",
    "sol = model_1.getBestSol()\n",
    "\n",
    "model_1.writeSol(sol, 'soluciones/ejercicio_8_opcion1.sol')"
   ]
  },
  {
   "cell_type": "markdown",
   "id": "939fc6a5",
   "metadata": {},
   "source": [
    "### modelo 2"
   ]
  },
  {
   "cell_type": "code",
   "execution_count": 7,
   "id": "72305f1a",
   "metadata": {},
   "outputs": [],
   "source": [
    "model_2 = Model(\"ATSP_2\")\n",
    "\n",
    "# add variables\n",
    "x = np.empty((n, n), dtype=object)\n",
    "for i in range(n):\n",
    "    for j in range(n):\n",
    "        if i != j:\n",
    "            x[i, j] = model_2.addVar(vtype=\"B\", name=f\"x_{i}_{j}\")\n",
    "        else:\n",
    "            x[i, j] = None\n",
    "\n",
    "# add restrictions\n",
    "for i in range(n):\n",
    "    model_2.addCons(sum(x[i, j] for j in range(n) if j != i) == 1, name=f\"out_{i}\")\n",
    "    model_2.addCons(sum(x[j, i] for j in range(n) if j != i) == 1, name=f\"in_{i}\")"
   ]
  },
  {
   "cell_type": "code",
   "execution_count": 8,
   "id": "14e5338b",
   "metadata": {},
   "outputs": [],
   "source": [
    "# restricciones especificas del modelo 1\n",
    "\n",
    "u = np.empty(shape=n, dtype=object)\n",
    "\n",
    "for i in range(n):\n",
    "    u[i] = model_2.addVar(vtype=\"C\", name=f\"u_{i}\", lb=0)\n",
    "\n",
    "for i in range(n):\n",
    "    for j in range(1, n):\n",
    "        if j != i:\n",
    "            model_2.addCons(u[i] + x[i,j] <= u[j] + (n-1)*(1-x[i,j]))"
   ]
  },
  {
   "cell_type": "code",
   "execution_count": 9,
   "id": "1ab5d0ef",
   "metadata": {},
   "outputs": [],
   "source": [
    "model_2.setObjective(sum(x[i, j]*data[i,j] for i in range(n) for j in range(n) if i != j), sense=\"minimize\")"
   ]
  },
  {
   "cell_type": "code",
   "execution_count": 10,
   "id": "00c15838",
   "metadata": {},
   "outputs": [],
   "source": [
    "\n",
    "model_2.optimize()\n",
    "\n",
    "sol = model_2.getBestSol()\n",
    "\n",
    "model_2.writeSol(sol, 'soluciones/ejercicio_8_opcion2.sol')"
   ]
  }
 ],
 "metadata": {
  "kernelspec": {
   "display_name": "Python 3",
   "language": "python",
   "name": "python3"
  },
  "language_info": {
   "codemirror_mode": {
    "name": "ipython",
    "version": 3
   },
   "file_extension": ".py",
   "mimetype": "text/x-python",
   "name": "python",
   "nbconvert_exporter": "python",
   "pygments_lexer": "ipython3",
   "version": "3.13.5"
  }
 },
 "nbformat": 4,
 "nbformat_minor": 5
}
