{
 "cells": [
  {
   "cell_type": "code",
   "execution_count": 1,
   "id": "9e8d3974",
   "metadata": {},
   "outputs": [],
   "source": [
    "import numpy as np\n",
    "from pyscipopt import Model"
   ]
  },
  {
   "cell_type": "code",
   "execution_count": 2,
   "id": "0574cce8",
   "metadata": {},
   "outputs": [],
   "source": [
    "model = Model(\"Tablero de ajedrez\")"
   ]
  },
  {
   "cell_type": "code",
   "execution_count": 3,
   "id": "aae20c2f",
   "metadata": {},
   "outputs": [],
   "source": [
    "model = Model(\"Tablero de ajedrez\")\n",
    "\n",
    "# tablero\n",
    "x = np.empty((8,8), object)\n",
    "\n",
    "for i in range(8):\n",
    "    for j in range(8):\n",
    "        x[i,j] = model.addVar(vtype=\"B\", name=f\"x_{i}_{j}\")"
   ]
  },
  {
   "cell_type": "code",
   "execution_count": 4,
   "id": "9580d4c8",
   "metadata": {},
   "outputs": [],
   "source": [
    "for desv in range(8):\n",
    "    model.addCons(sum(x[i, i + desv] for i in range(8 - desv)) <= 1)\n",
    "    model.addCons(sum(x[i + desv, i] for i in range(8 - desv)) <= 1)\n",
    "    model.addCons(sum(x[i,7 - i - desv] for i in range(8 - desv)) <= 1)\n",
    "    model.addCons(sum(x[i + desv,7 - i] for i in range(8 - desv)) <= 1)\n",
    "    "
   ]
  },
  {
   "cell_type": "code",
   "execution_count": 5,
   "id": "4a42d43f",
   "metadata": {},
   "outputs": [],
   "source": [
    "model.setObjective(sum(x[i,j] for i in range(8) for j in range(8)), sense=\"maximize\")"
   ]
  },
  {
   "cell_type": "code",
   "execution_count": 6,
   "id": "77b07e13",
   "metadata": {},
   "outputs": [],
   "source": [
    "model.optimize()\n",
    "\n",
    "sol = model.getBestSol()\n",
    "\n",
    "model.writeSol(sol, 'soluciones/ejercicio_9.sol')"
   ]
  }
 ],
 "metadata": {
  "kernelspec": {
   "display_name": "Python 3",
   "language": "python",
   "name": "python3"
  },
  "language_info": {
   "codemirror_mode": {
    "name": "ipython",
    "version": 3
   },
   "file_extension": ".py",
   "mimetype": "text/x-python",
   "name": "python",
   "nbconvert_exporter": "python",
   "pygments_lexer": "ipython3",
   "version": "3.13.5"
  }
 },
 "nbformat": 4,
 "nbformat_minor": 5
}
