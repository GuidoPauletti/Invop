{
 "cells": [
  {
   "cell_type": "code",
   "execution_count": 1,
   "id": "183a7774",
   "metadata": {},
   "outputs": [],
   "source": [
    "# Importamos la clase Model de pyscipopt\n",
    "from pyscipopt import Model\n",
    "# Importamos numpy\n",
    "import numpy as np"
   ]
  },
  {
   "cell_type": "code",
   "execution_count": 2,
   "id": "bbad13d5",
   "metadata": {},
   "outputs": [],
   "source": [
    "model = Model('ej5')"
   ]
  },
  {
   "cell_type": "code",
   "execution_count": 3,
   "id": "51d0061e",
   "metadata": {},
   "outputs": [],
   "source": [
    "y1 = model.addVar(name=\"y1\", vtype=\"C\")\n",
    "y2 = model.addVar(name=\"y2\", vtype=\"C\")"
   ]
  },
  {
   "cell_type": "code",
   "execution_count": 5,
   "id": "5c733664",
   "metadata": {},
   "outputs": [
    {
     "data": {
      "text/plain": [
       "c9"
      ]
     },
     "execution_count": 5,
     "metadata": {},
     "output_type": "execute_result"
    }
   ],
   "source": [
    "model.addCons(2*y1 + 3*y2 <=-5)\n",
    "model.addCons(3*y1 + 2*y2 <=-7)\n",
    "model.addCons(2*y1 + 4*y2 <=-12)\n",
    "model.addCons(y1 - y2 <= 1)\n",
    "model.addCons(y2 <= 0)\n",
    "model.addCons(y1 <= 0)"
   ]
  },
  {
   "cell_type": "code",
   "execution_count": 6,
   "id": "1d2b5224",
   "metadata": {},
   "outputs": [],
   "source": [
    "model.setObjective(38*y1 + 55*y2, sense=\"maximize\")"
   ]
  },
  {
   "cell_type": "code",
   "execution_count": 8,
   "id": "6099a811",
   "metadata": {},
   "outputs": [],
   "source": [
    "# Optimizar\n",
    "model.redirectOutput()\n",
    "model.optimize()\n",
    "\n",
    "sol = model.getBestSol()\n",
    "\n",
    "model.writeSol(sol, 'solucion_fabricas.sol')"
   ]
  }
 ],
 "metadata": {
  "kernelspec": {
   "display_name": "Python 3",
   "language": "python",
   "name": "python3"
  },
  "language_info": {
   "codemirror_mode": {
    "name": "ipython",
    "version": 3
   },
   "file_extension": ".py",
   "mimetype": "text/x-python",
   "name": "python",
   "nbconvert_exporter": "python",
   "pygments_lexer": "ipython3",
   "version": "3.13.5"
  }
 },
 "nbformat": 4,
 "nbformat_minor": 5
}
